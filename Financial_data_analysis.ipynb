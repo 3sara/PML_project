{
 "cells": [
  {
   "cell_type": "markdown",
   "metadata": {},
   "source": [
    "# UnSupervisedIOHMM"
   ]
  },
  {
   "cell_type": "code",
   "execution_count": 2,
   "metadata": {
    "collapsed": true
   },
   "outputs": [],
   "source": [
    "from __future__ import  division\n",
    "\n",
    "import json\n",
    "import warnings\n",
    "\n",
    "import numpy as np\n",
    "import pandas as pd\n",
    "\n",
    "from IOHMM import UnSupervisedIOHMM\n",
    "from IOHMM import OLS, DiscreteMNL, CrossEntropyMNL\n",
    "\n",
    "warnings.simplefilter(\"ignore\")"
   ]
  },
  {
   "cell_type": "markdown",
   "metadata": {},
   "source": [
    "## Load data"
   ]
  },
  {
   "cell_type": "code",
   "execution_count": 3,
   "metadata": {
    "collapsed": false,
    "scrolled": true
   },
   "outputs": [
    {
     "name": "stdout",
     "output_type": "stream",
     "text": [
      "3259\n"
     ]
    }
   ],
   "source": [
    "data = pd.read_csv(\"data/TSLA.csv\")\n",
    "data.head()\n",
    "data = data.dropna()\n",
    "\n",
    "input_data = data[['Open', 'High', 'Low', 'Close', 'Volume']][:-1]\n",
    "\n",
    "\n",
    "# close price of the next day\n",
    "output_data = data['Close'][1:]\n",
    "# to start from 0 index\n",
    "output_data.index = range(len(output_data))\n",
    "\n",
    "output_data.name = 'Close-next-day'\n",
    "\n",
    "data = pd.concat([input_data, output_data], axis=1)\n",
    "\n",
    "data.head()\n",
    "print(len(data))"
   ]
  },
  {
   "cell_type": "markdown",
   "metadata": {},
   "source": [
    "# Example 1"
   ]
  },
  {
   "cell_type": "markdown",
   "metadata": {},
   "source": [
    "## Set up a simple model manully"
   ]
  },
  {
   "cell_type": "code",
   "execution_count": 4,
   "metadata": {
    "collapsed": true
   },
   "outputs": [],
   "source": [
    "# set two hidden states\n",
    "SHMM = UnSupervisedIOHMM(num_states=3, max_EM_iter=200, EM_tol=1e-6)\n",
    "\n",
    "# This model has only one output which is modeled by a linear regression model\n",
    "SHMM.set_models(model_emissions = [OLS()], \n",
    "                model_transition=CrossEntropyMNL(solver='lbfgs'),\n",
    "                model_initial=CrossEntropyMNL(solver='lbfgs'))\n",
    "\n",
    "# We don't set any covariates to this OLS model\n",
    "SHMM.set_inputs(covariates_initial = ['Open', 'High', 'Low', 'Close', 'Volume'], covariates_transition = ['Open', 'High', 'Low', 'Close', 'Volume'], covariates_emissions = [['Open', 'High', 'Low', 'Close', 'Volume'],['Open', 'High', 'Low', 'Close', 'Volume'],['Open', 'High', 'Low', 'Close', 'Volume']])\n",
    "\n",
    "SHMM.set_outputs([['Close-next-day']])\n",
    "\n",
    "# we only have a list of one sequence.\n",
    "SHMM.set_data([data])"
   ]
  },
  {
   "cell_type": "markdown",
   "metadata": {},
   "source": [
    "## Start training"
   ]
  },
  {
   "cell_type": "code",
   "execution_count": 5,
   "metadata": {
    "collapsed": true,
    "scrolled": true
   },
   "outputs": [],
   "source": [
    "SHMM.train()"
   ]
  },
  {
   "cell_type": "markdown",
   "metadata": {},
   "source": [
    "## See the training results"
   ]
  },
  {
   "cell_type": "code",
   "execution_count": 6,
   "metadata": {},
   "outputs": [
    {
     "name": "stdout",
     "output_type": "stream",
     "text": [
      "<IOHMM.linear_models.CrossEntropyMNL object at 0x1719dbfa0>\n",
      "[<IOHMM.linear_models.CrossEntropyMNL object at 0x171a06e50>, <IOHMM.linear_models.CrossEntropyMNL object at 0x171a06df0>, <IOHMM.linear_models.CrossEntropyMNL object at 0x171a06d90>]\n",
      "[[<IOHMM.linear_models.OLS object at 0x171a06850>], [<IOHMM.linear_models.OLS object at 0x171a06820>], [<IOHMM.linear_models.OLS object at 0x171a06640>]]\n"
     ]
    }
   ],
   "source": [
    "print(SHMM.model_initial)\n",
    "print(SHMM.model_transition)\n",
    "print(SHMM.model_emissions)"
   ]
  },
  {
   "cell_type": "code",
   "execution_count": 7,
   "metadata": {},
   "outputs": [
    {
     "name": "stdout",
     "output_type": "stream",
     "text": [
      "Initial state distribution\n",
      "[[-2.68721234e-15 -3.40380322e-15 -4.47868809e-15 -3.14224602e-15\n",
      "  -4.27983438e-15 -7.56435495e-07]\n",
      " [ 5.37442469e-15  6.80760644e-15  8.95737619e-15  6.28449204e-15\n",
      "   8.55966875e-15  1.51287099e-06]\n",
      " [-2.68721234e-15 -3.40380322e-15 -4.47868809e-15 -3.14224602e-15\n",
      "  -4.27983438e-15 -7.56435495e-07]]\n",
      "Transition matrix\n",
      "[[ 3.36308988e-14  6.86663397e-12  7.02787898e-12  6.69096209e-12\n",
      "   6.86365833e-12  4.54165318e-06]\n",
      " [-1.67622802e-14 -3.43324025e-12 -3.51386275e-12 -3.34540834e-12\n",
      "  -3.43175646e-12 -2.27072918e-06]\n",
      " [-1.68686502e-14 -3.43338969e-12 -3.51401219e-12 -3.34555375e-12\n",
      "  -3.43190187e-12 -2.27092824e-06]]\n",
      "[[-1.10378961e-13 -2.10699170e-13 -2.14990673e-13 -2.05921893e-13\n",
      "  -2.10412964e-13 -2.17836998e-06]\n",
      " [ 3.38377101e-14 -6.23391114e-15 -2.44705332e-15 -8.15234721e-15\n",
      "  -6.72973962e-15  1.33297887e-06]\n",
      " [ 7.65412513e-14  2.16933081e-13  2.17437726e-13  2.14074241e-13\n",
      "   2.17142704e-13  8.45391110e-07]]\n",
      "[[-6.50282757e-14 -4.09547363e-13 -4.08328490e-13 -4.01347132e-13\n",
      "  -4.00505201e-13 -2.83185383e-08]\n",
      " [ 2.35555441e-14 -1.05132096e-13 -1.05771477e-13 -1.04135976e-13\n",
      "  -1.04622139e-13 -5.62035765e-08]\n",
      " [ 4.14727315e-14  5.14679459e-13  5.14099967e-13  5.05483108e-13\n",
      "   5.05127341e-13  8.45221149e-08]]\n",
      "Emission model\n",
      "[[ 2.84354327e+00 -5.78550339e-02  7.62735624e-02  1.15127707e-01\n",
      "   8.57738690e-01 -4.46675469e-09]]\n",
      "[[ 3.93398747e-02  9.54921026e-03 -1.51664049e-01 -3.04503507e-02\n",
      "   1.15781874e+00 -2.48140367e-10]]\n",
      "[[ 5.97151722e-02  9.76300474e-02 -2.48001079e-01 -1.62524709e-02\n",
      "   1.16387969e+00  6.15942901e-10]]\n"
     ]
    }
   ],
   "source": [
    "print(\"Initial state distribution\")\n",
    "print(SHMM.model_initial.coef)\n",
    "\n",
    "print(\"Transition matrix\")\n",
    "print(SHMM.model_transition[0].coef)\n",
    "print(SHMM.model_transition[1].coef)\n",
    "print(SHMM.model_transition[2].coef)\n",
    "\n",
    "print(\"Emission model\")\n",
    "print(SHMM.model_emissions[0][0].coef)\n",
    "print(SHMM.model_emissions[1][0].coef)\n",
    "print(SHMM.model_emissions[2][0].coef)"
   ]
  },
  {
   "cell_type": "code",
   "execution_count": 8,
   "metadata": {
    "collapsed": false
   },
   "outputs": [
    {
     "name": "stdout",
     "output_type": "stream",
     "text": [
      "[[8.67150453]]\n",
      "[[0.05989296]]\n",
      "[[0.49065709]]\n"
     ]
    }
   ],
   "source": [
    "# The scale/dispersion of the OLS model for each hidden states\n",
    "print(np.sqrt(SHMM.model_emissions[0][0].dispersion))\n",
    "print(np.sqrt(SHMM.model_emissions[1][0].dispersion))\n",
    "print(np.sqrt(SHMM.model_emissions[2][0].dispersion))"
   ]
  },
  {
   "cell_type": "code",
   "execution_count": 9,
   "metadata": {},
   "outputs": [
    {
     "name": "stdout",
     "output_type": "stream",
     "text": [
      "[1 1 1 ... 0 0 0]\n"
     ]
    }
   ],
   "source": [
    "viterbi_path = SHMM.viterbi()\n",
    "print(viterbi_path)"
   ]
  },
  {
   "cell_type": "code",
   "execution_count": 12,
   "metadata": {},
   "outputs": [
    {
     "data": {
      "image/png": "[encoded data removed]",
      "text/plain": [
       "<Figure size 640x480 with 1 Axes>"
      ]
     },
     "metadata": {},
     "output_type": "display_data"
    }
   ],
   "source": [
    "# plot the output data and the hidden states, i want that the line of the close data becomes red when state is 0, grey when state is 1 and blue when state is 2\n",
    "import matplotlib.pyplot as plt\n",
    "plt.plot(data['Close-next-day'])\n",
    "for i in range(len(viterbi_path)):\n",
    "    if viterbi_path[i] == 0:\n",
    "        plt.plot(i, data['Close-next-day'][i], 'ro')\n",
    "    elif viterbi_path[i] == 1:\n",
    "        plt.plot(i, data['Close-next-day'][i], 'go')\n",
    "    else:\n",
    "        plt.plot(i, data['Close-next-day'][i], 'bo')\n",
    "plt.show()"
   ]
  },
  {
   "cell_type": "code",
   "execution_count": 27,
   "metadata": {},
   "outputs": [
    {
     "name": "stdout",
     "output_type": "stream",
     "text": [
      "[1 1 1 ... 2 2 2]\n"
     ]
    }
   ],
   "source": [
    "import hmmlearn.hmm as hmm\n",
    "\n",
    "model = hmm.GaussianHMM(n_components=4, covariance_type=\"full\", n_iter=1000)\n",
    "model.fit(data[['Close-next-day']])\n",
    "hidden_states = model.predict(data[['Close-next-day']])\n",
    "print(hidden_states)"
   ]
  },
  {
   "cell_type": "code",
   "execution_count": 28,
   "metadata": {},
   "outputs": [
    {
     "data": {
      "image/png": "[encoded data removed]",
      "text/plain": [
       "<Figure size 640x480 with 1 Axes>"
      ]
     },
     "metadata": {},
     "output_type": "display_data"
    }
   ],
   "source": [
    "# plot the output data and the hidden states, i want that the line of the close data becomes red when state is 0, grey when state is 1 and blue when state is 2\n",
    "import matplotlib.pyplot as plt\n",
    "plt.plot(data['Close-next-day'])\n",
    "for i in range(len(hidden_states)):\n",
    "    if hidden_states[i] == 0:\n",
    "        plt.plot(i, data['Close-next-day'][i], 'ro')\n",
    "    elif hidden_states[i] == 1:\n",
    "        plt.plot(i, data['Close-next-day'][i], 'go')\n",
    "    elif hidden_states[i] == 2:\n",
    "        plt.plot(i, data['Close-next-day'][i], 'yo')\n",
    "    else:\n",
    "        plt.plot(i, data['Close-next-day'][i], 'bo')\n",
    "plt.show()"
   ]
  }
 ],
 "metadata": {
  "kernelspec": {
   "display_name": "Python 3",
   "language": "python",
   "name": "python3"
  },
  "language_info": {
   "codemirror_mode": {
    "name": "ipython",
    "version": 3
   },
   "file_extension": ".py",
   "mimetype": "text/x-python",
   "name": "python",
   "nbconvert_exporter": "python",
   "pygments_lexer": "ipython3",
   "version": "3.9.18"
  }
 },
 "nbformat": 4,
 "nbformat_minor": 1
}
