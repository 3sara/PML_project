{
 "cells": [
  {
   "cell_type": "markdown",
   "metadata": {},
   "source": [
    "# UnSupervisedIOHMM"
   ]
  },
  {
   "cell_type": "code",
   "execution_count": 1,
   "metadata": {
    "collapsed": true
   },
   "outputs": [],
   "source": [
    "from __future__ import  division\n",
    "\n",
    "import json\n",
    "import warnings\n",
    "\n",
    "import numpy as np\n",
    "import pandas as pd\n",
    "\n",
    "from IOHMM import UnSupervisedIOHMM\n",
    "from IOHMM import OLS, DiscreteMNL, CrossEntropyMNL\n",
    "\n",
    "warnings.simplefilter(\"ignore\")"
   ]
  },
  {
   "cell_type": "markdown",
   "metadata": {},
   "source": [
    "## Load speed data"
   ]
  },
  {
   "cell_type": "code",
   "execution_count": 9,
   "metadata": {
    "collapsed": false,
    "scrolled": true
   },
   "outputs": [
    {
     "data": {
      "text/html": [
       "<div>\n",
       "<style scoped>\n",
       "    .dataframe tbody tr th:only-of-type {\n",
       "        vertical-align: middle;\n",
       "    }\n",
       "\n",
       "    .dataframe tbody tr th {\n",
       "        vertical-align: top;\n",
       "    }\n",
       "\n",
       "    .dataframe thead th {\n",
       "        text-align: right;\n",
       "    }\n",
       "</style>\n",
       "<table border=\"1\" class=\"dataframe\">\n",
       "  <thead>\n",
       "    <tr style=\"text-align: right;\">\n",
       "      <th></th>\n",
       "      <th>Open</th>\n",
       "      <th>High</th>\n",
       "      <th>Low</th>\n",
       "      <th>Close</th>\n",
       "      <th>Close-next-day</th>\n",
       "    </tr>\n",
       "  </thead>\n",
       "  <tbody>\n",
       "    <tr>\n",
       "      <th>0</th>\n",
       "      <td>1.266667</td>\n",
       "      <td>1.666667</td>\n",
       "      <td>1.169333</td>\n",
       "      <td>1.592667</td>\n",
       "      <td>1.588667</td>\n",
       "    </tr>\n",
       "    <tr>\n",
       "      <th>1</th>\n",
       "      <td>1.719333</td>\n",
       "      <td>2.028000</td>\n",
       "      <td>1.553333</td>\n",
       "      <td>1.588667</td>\n",
       "      <td>1.464000</td>\n",
       "    </tr>\n",
       "    <tr>\n",
       "      <th>2</th>\n",
       "      <td>1.666667</td>\n",
       "      <td>1.728000</td>\n",
       "      <td>1.351333</td>\n",
       "      <td>1.464000</td>\n",
       "      <td>1.280000</td>\n",
       "    </tr>\n",
       "    <tr>\n",
       "      <th>3</th>\n",
       "      <td>1.533333</td>\n",
       "      <td>1.540000</td>\n",
       "      <td>1.247333</td>\n",
       "      <td>1.280000</td>\n",
       "      <td>1.074000</td>\n",
       "    </tr>\n",
       "    <tr>\n",
       "      <th>4</th>\n",
       "      <td>1.333333</td>\n",
       "      <td>1.333333</td>\n",
       "      <td>1.055333</td>\n",
       "      <td>1.074000</td>\n",
       "      <td>1.053333</td>\n",
       "    </tr>\n",
       "  </tbody>\n",
       "</table>\n",
       "</div>"
      ],
      "text/plain": [
       "       Open      High       Low     Close  Close-next-day\n",
       "0  1.266667  1.666667  1.169333  1.592667        1.588667\n",
       "1  1.719333  2.028000  1.553333  1.588667        1.464000\n",
       "2  1.666667  1.728000  1.351333  1.464000        1.280000\n",
       "3  1.533333  1.540000  1.247333  1.280000        1.074000\n",
       "4  1.333333  1.333333  1.055333  1.074000        1.053333"
      ]
     },
     "execution_count": 9,
     "metadata": {},
     "output_type": "execute_result"
    }
   ],
   "source": [
    "data = pd.read_csv(\"data/TSLA.csv\")\n",
    "data.head()\n",
    "data = data.dropna()\n",
    "\n",
    "input_data = data[['Open', 'High', 'Low', 'Close']][:-1]\n",
    "\n",
    "\n",
    "# close price of the next day\n",
    "output_data = data['Close'][1:]\n",
    "# to start from 0 index\n",
    "output_data.index = range(len(output_data))\n",
    "\n",
    "output_data.name = 'Close-next-day'\n",
    "\n",
    "data = pd.concat([input_data, output_data], axis=1)\n",
    "\n",
    "#take only the first 100 rows\n",
    "data = data[:100]\n",
    "\n",
    "data.head()\n",
    "#print(len(data))"
   ]
  },
  {
   "cell_type": "markdown",
   "metadata": {},
   "source": [
    "# Example 1"
   ]
  },
  {
   "cell_type": "markdown",
   "metadata": {},
   "source": [
    "## Set up a simple model manully"
   ]
  },
  {
   "cell_type": "code",
   "execution_count": 4,
   "metadata": {
    "collapsed": true
   },
   "outputs": [],
   "source": [
    "# set two hidden states\n",
    "SHMM = UnSupervisedIOHMM(num_states=3, max_EM_iter=200, EM_tol=1e-6)\n",
    "\n",
    "# This model has only one output which is modeled by a linear regression model\n",
    "SHMM.set_models(model_emissions = [OLS()], \n",
    "                model_transition=CrossEntropyMNL(solver='lbfgs'),\n",
    "                model_initial=CrossEntropyMNL(solver='lbfgs'))\n",
    "\n",
    "# We don't set any covariates to this OLS model\n",
    "SHMM.set_inputs(covariates_initial = ['Open', 'High', 'Low', 'Close'], covariates_transition = ['Open', 'High', 'Low', 'Close'], covariates_emissions = [['Open', 'High', 'Low', 'Close'],['Open', 'High', 'Low', 'Close'],['Open', 'High', 'Low', 'Close']])\n",
    "\n",
    "SHMM.set_outputs([['Close-next-day']])\n",
    "\n",
    "# we only have a list of one sequence.\n",
    "SHMM.set_data([data])"
   ]
  },
  {
   "cell_type": "markdown",
   "metadata": {},
   "source": [
    "## Start training"
   ]
  },
  {
   "cell_type": "code",
   "execution_count": 5,
   "metadata": {
    "collapsed": true,
    "scrolled": true
   },
   "outputs": [],
   "source": [
    "SHMM.train()"
   ]
  },
  {
   "cell_type": "markdown",
   "metadata": {},
   "source": [
    "## See the training results"
   ]
  },
  {
   "cell_type": "code",
   "execution_count": 6,
   "metadata": {},
   "outputs": [
    {
     "name": "stdout",
     "output_type": "stream",
     "text": [
      "<IOHMM.linear_models.CrossEntropyMNL object at 0x7fc1f795f0d0>\n",
      "[<IOHMM.linear_models.CrossEntropyMNL object at 0x7fc2342e1f30>, <IOHMM.linear_models.CrossEntropyMNL object at 0x7fc2342e3a90>, <IOHMM.linear_models.CrossEntropyMNL object at 0x7fc2342e3b80>]\n",
      "[[<IOHMM.linear_models.OLS object at 0x7fc1f6089f60>], [<IOHMM.linear_models.OLS object at 0x7fc1f608a1d0>], [<IOHMM.linear_models.OLS object at 0x7fc1f6089bd0>]]\n"
     ]
    }
   ],
   "source": [
    "print(SHMM.model_initial)\n",
    "print(SHMM.model_transition)\n",
    "print(SHMM.model_emissions)"
   ]
  },
  {
   "cell_type": "code",
   "execution_count": 7,
   "metadata": {},
   "outputs": [
    {
     "name": "stdout",
     "output_type": "stream",
     "text": [
      "Initial state distribution\n",
      "[[ 0.74922054  0.94901294  1.24870114  0.87608829  1.19325882]\n",
      " [-0.37461027 -0.47450647 -0.62435057 -0.43804414 -0.59662941]\n",
      " [-0.37461027 -0.47450647 -0.62435057 -0.43804414 -0.59662941]]\n",
      "Transition matrix\n",
      "[[ -59.81167502   10.28288798   88.56955821  256.83150068 -312.58346279]\n",
      " [  61.15619245 -341.50542916  138.36268827 -275.86599604  436.51659652]\n",
      " [  -1.34451744  331.22254118 -226.93224648   19.03449536 -123.93313373]]\n",
      "[[  5446.97304788   9321.16403109  -4161.17049986   4287.727949\n",
      "  -13078.09772275]\n",
      " [  4494.91746505  -8085.54196443   2263.00394199  -5338.62599482\n",
      "    7799.38091515]\n",
      " [ -9941.89051293  -1235.62206667   1898.16655787   1050.89804582\n",
      "    5278.7168076 ]]\n",
      "[[  241.01715178  -421.29952648   543.92324194   483.21508175\n",
      "   -726.82981513]\n",
      " [  414.06457517  -749.07179485  -964.64578454   900.61194551\n",
      "    620.55463385]\n",
      " [ -655.08172694  1170.37132133   420.72254261 -1383.82702726\n",
      "    106.27518128]]\n",
      "Emission model\n",
      "[[-0.01836085  0.37753479 -0.42791083 -0.34834211  1.40669062]]\n",
      "[[0.26108385 0.03076296 0.49008631 0.22315388 0.07644262]]\n",
      "[[-0.38905898 -3.28064937  3.30485875  4.37441186 -3.08826545]]\n"
     ]
    }
   ],
   "source": [
    "print(\"Initial state distribution\")\n",
    "print(SHMM.model_initial.coef)\n",
    "\n",
    "print(\"Transition matrix\")\n",
    "print(SHMM.model_transition[0].coef)\n",
    "print(SHMM.model_transition[1].coef)\n",
    "print(SHMM.model_transition[2].coef)\n",
    "\n",
    "print(\"Emission model\")\n",
    "print(SHMM.model_emissions[0][0].coef)\n",
    "print(SHMM.model_emissions[1][0].coef)\n",
    "print(SHMM.model_emissions[2][0].coef)"
   ]
  },
  {
   "cell_type": "code",
   "execution_count": 28,
   "metadata": {
    "collapsed": false
   },
   "outputs": [
    {
     "name": "stdout",
     "output_type": "stream",
     "text": [
      "[[8.67150453]]\n",
      "[[0.05989296]]\n",
      "[[0.49065709]]\n"
     ]
    }
   ],
   "source": [
    "# The scale/dispersion of the OLS model for each hidden states\n",
    "print(np.sqrt(SHMM.model_emissions[0][0].dispersion))\n",
    "print(np.sqrt(SHMM.model_emissions[1][0].dispersion))\n",
    "print(np.sqrt(SHMM.model_emissions[2][0].dispersion))"
   ]
  }
 ],
 "metadata": {
  "kernelspec": {
   "display_name": "Python 3",
   "language": "python",
   "name": "python3"
  },
  "language_info": {
   "codemirror_mode": {
    "name": "ipython",
    "version": 3
   },
   "file_extension": ".py",
   "mimetype": "text/x-python",
   "name": "python",
   "nbconvert_exporter": "python",
   "pygments_lexer": "ipython3",
   "version": "3.10.12"
  }
 },
 "nbformat": 4,
 "nbformat_minor": 1
}
