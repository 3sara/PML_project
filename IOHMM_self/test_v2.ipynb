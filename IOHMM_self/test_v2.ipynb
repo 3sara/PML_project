{
 "cells": [
  {
   "cell_type": "code",
   "execution_count": 1,
   "metadata": {},
   "outputs": [],
   "source": [
    "import pandas as pd\n",
    "import numpy as np\n",
    "import matplotlib.pyplot as plt\n",
    "import torch\n",
    "from hmmlearn import hmm\n",
    "from IOHMM_v2 import IOHMM_model"
   ]
  },
  {
   "cell_type": "code",
   "execution_count": 2,
   "metadata": {},
   "outputs": [],
   "source": [
    "# Generate data\n",
    "hmm_model = hmm.GaussianHMM(n_components=2, covariance_type=\"diag\", n_iter=100)\n",
    "hmm_model.startprob_ = np.array([0.0, 1.0])\n",
    "hmm_model.transmat_ = np.array([[0.9, 0.1],\n",
    "                                [0.1, 0.9]])\n",
    "hmm_model.means_ = np.array([[-10.0], [10.0]])\n",
    "hmm_model.covars_ = np.array([[.1], [.1]])\n",
    "# Sample data\n",
    "X, Z = hmm_model.sample(20)\n",
    "# Dataframe\n",
    "data = pd.DataFrame(X, columns=['X'])\n",
    "data['Z'] = Z\n",
    "\n",
    "output = torch.tensor(data['X'].values, dtype=torch.float32)\n",
    "input = torch.ones(output.size(), dtype=torch.float32).unsqueeze(1)"
   ]
  },
  {
   "cell_type": "code",
   "execution_count": 3,
   "metadata": {},
   "outputs": [
    {
     "name": "stdout",
     "output_type": "stream",
     "text": [
      "            X  Z\n",
      "0   10.504885  1\n",
      "1   10.234028  1\n",
      "2   10.302625  1\n",
      "3   10.330999  1\n",
      "4    9.966444  1\n",
      "5    9.774937  1\n",
      "6   10.300669  1\n",
      "7   10.491599  1\n",
      "8    9.997872  1\n",
      "9   10.631613  1\n",
      "10  -9.838185  0\n",
      "11  -9.929609  0\n",
      "12  -9.977329  0\n",
      "13  -9.991960  0\n",
      "14  -9.521462  0\n",
      "15 -10.678681  0\n",
      "16  -9.734003  0\n",
      "17  -9.378005  0\n",
      "18  -9.610062  0\n",
      "19  -9.580164  0\n"
     ]
    }
   ],
   "source": [
    "print(data)"
   ]
  },
  {
   "cell_type": "code",
   "execution_count": 4,
   "metadata": {},
   "outputs": [
    {
     "name": "stdout",
     "output_type": "stream",
     "text": [
      "Input size: torch.Size([20, 1])\n",
      "Output size: torch.Size([20])\n"
     ]
    }
   ],
   "source": [
    "print(\"Input size:\", input.size())\n",
    "print(\"Output size:\", output.size())"
   ]
  },
  {
   "cell_type": "code",
   "execution_count": 5,
   "metadata": {},
   "outputs": [],
   "source": [
    "iohmm = IOHMM_model(num_states=2, inputs=input, outputs=output, max_iter=50, tol=1e-40)"
   ]
  },
  {
   "cell_type": "code",
   "execution_count": 6,
   "metadata": {},
   "outputs": [
    {
     "name": "stdout",
     "output_type": "stream",
     "text": [
      "Initial parameters:\n",
      "Theta transition:Parameter containing:\n",
      "tensor([[[-0.3539, -0.0261],\n",
      "         [ 1.5926,  0.9153]],\n",
      "\n",
      "        [[ 0.7992,  0.3282],\n",
      "         [-0.7039,  2.2175]]], requires_grad=True)\n",
      "Theta emission:Parameter containing:\n",
      "tensor([[ 0.1690, -1.3195],\n",
      "        [-0.3185, -0.8535]], requires_grad=True)\n"
     ]
    }
   ],
   "source": [
    "print(\"Initial parameters:\")\n",
    "print(f\"Theta transition:{iohmm.theta_transition}\")\n",
    "print(f\"Theta emission:{iohmm.theta_emission}\")"
   ]
  },
  {
   "cell_type": "code",
   "execution_count": 7,
   "metadata": {},
   "outputs": [
    {
     "name": "stdout",
     "output_type": "stream",
     "text": [
      "iteration 0\n",
      "old likelihood: -inf\n",
      "iteration 1\n",
      "old likelihood: tensor([[-89.4763]])\n",
      "iteration 2\n",
      "old likelihood: tensor([[-86.8117]])\n",
      "iteration 3\n",
      "old likelihood: tensor([[-85.5390]])\n",
      "iteration 4\n",
      "old likelihood: tensor([[-84.7287]])\n",
      "iteration 5\n",
      "old likelihood: tensor([[-84.1144]])\n",
      "iteration 6\n",
      "old likelihood: tensor([[-83.5987]])\n",
      "iteration 7\n",
      "old likelihood: tensor([[-83.1375]])\n",
      "iteration 8\n",
      "old likelihood: tensor([[-82.7116]])\n",
      "iteration 9\n",
      "old likelihood: tensor([[-82.3134]])\n",
      "iteration 10\n",
      "old likelihood: tensor([[-81.9362]])\n",
      "iteration 11\n",
      "old likelihood: tensor([[-81.5817]])\n",
      "iteration 12\n",
      "old likelihood: tensor([[-81.2476]])\n",
      "iteration 13\n",
      "old likelihood: tensor([[-80.9295]])\n",
      "iteration 14\n",
      "old likelihood: tensor([[-80.6318]])\n",
      "iteration 15\n",
      "old likelihood: tensor([[-80.3517]])\n",
      "iteration 16\n",
      "old likelihood: tensor([[-80.0899]])\n",
      "iteration 17\n",
      "old likelihood: tensor([[-79.8443]])\n",
      "iteration 18\n",
      "old likelihood: tensor([[-79.6126]])\n",
      "iteration 19\n",
      "old likelihood: tensor([[-79.3969]])\n",
      "iteration 20\n",
      "old likelihood: tensor([[-79.1951]])\n",
      "iteration 21\n",
      "old likelihood: tensor([[-79.0051]])\n",
      "iteration 22\n",
      "old likelihood: tensor([[-78.8281]])\n",
      "iteration 23\n",
      "old likelihood: tensor([[-78.6607]])\n",
      "iteration 24\n",
      "old likelihood: tensor([[-78.5059]])\n",
      "iteration 25\n",
      "old likelihood: tensor([[-78.3592]])\n",
      "iteration 26\n",
      "old likelihood: tensor([[-78.2222]])\n",
      "iteration 27\n",
      "old likelihood: tensor([[-78.0925]])\n",
      "iteration 28\n",
      "old likelihood: tensor([[-77.9707]])\n",
      "iteration 29\n",
      "old likelihood: tensor([[-77.8558]])\n",
      "iteration 30\n",
      "old likelihood: tensor([[-77.7485]])\n",
      "iteration 31\n",
      "old likelihood: tensor([[-77.6468]])\n",
      "iteration 32\n",
      "old likelihood: tensor([[-77.5495]])\n",
      "iteration 33\n",
      "old likelihood: tensor([[-77.4593]])\n",
      "iteration 34\n",
      "old likelihood: tensor([[-77.3723]])\n",
      "iteration 35\n",
      "old likelihood: tensor([[-77.2906]])\n",
      "iteration 36\n",
      "old likelihood: tensor([[-77.2140]])\n",
      "iteration 37\n",
      "old likelihood: tensor([[-77.1400]])\n",
      "iteration 38\n",
      "old likelihood: tensor([[-77.0700]])\n",
      "iteration 39\n",
      "old likelihood: tensor([[-77.0027]])\n",
      "iteration 40\n",
      "old likelihood: tensor([[-76.9393]])\n",
      "iteration 41\n",
      "old likelihood: tensor([[-76.8802]])\n",
      "iteration 42\n",
      "old likelihood: tensor([[-76.8218]])\n",
      "iteration 43\n",
      "old likelihood: tensor([[-76.7662]])\n",
      "iteration 44\n",
      "old likelihood: tensor([[-76.7142]])\n",
      "iteration 45\n",
      "old likelihood: tensor([[-76.6641]])\n",
      "iteration 46\n",
      "old likelihood: tensor([[-76.6156]])\n",
      "iteration 47\n",
      "old likelihood: tensor([[-76.5698]])\n",
      "iteration 48\n",
      "old likelihood: tensor([[-76.5249]])\n",
      "iteration 49\n",
      "old likelihood: tensor([[-76.4822]])\n",
      "iteration 50\n",
      "old likelihood: tensor([[-76.4427]])\n",
      "iteration 51\n",
      "old likelihood: tensor([[-76.4030]])\n",
      "iteration 52\n",
      "old likelihood: tensor([[-76.3648]])\n",
      "iteration 53\n",
      "old likelihood: tensor([[-76.3286]])\n",
      "iteration 54\n",
      "old likelihood: tensor([[-76.2938]])\n",
      "iteration 55\n",
      "old likelihood: tensor([[-76.2610]])\n",
      "iteration 56\n",
      "old likelihood: tensor([[-76.2288]])\n",
      "iteration 57\n",
      "old likelihood: tensor([[-76.1972]])\n",
      "iteration 58\n",
      "old likelihood: tensor([[-76.1665]])\n",
      "iteration 59\n",
      "old likelihood: tensor([[-76.1374]])\n",
      "iteration 60\n",
      "old likelihood: tensor([[-76.1103]])\n",
      "iteration 61\n",
      "old likelihood: tensor([[-76.0830]])\n",
      "iteration 62\n",
      "old likelihood: tensor([[-76.0565]])\n",
      "iteration 63\n",
      "old likelihood: tensor([[-76.0320]])\n",
      "iteration 64\n",
      "old likelihood: tensor([[-76.0072]])\n",
      "iteration 65\n",
      "old likelihood: tensor([[-75.9835]])\n",
      "iteration 66\n",
      "old likelihood: tensor([[-75.9599]])\n",
      "iteration 67\n",
      "old likelihood: tensor([[-75.9374]])\n",
      "iteration 68\n",
      "old likelihood: tensor([[-75.9161]])\n",
      "iteration 69\n",
      "old likelihood: tensor([[-75.8938]])\n",
      "iteration 70\n",
      "old likelihood: tensor([[-75.8749]])\n",
      "iteration 71\n",
      "old likelihood: tensor([[-75.8541]])\n",
      "iteration 72\n",
      "old likelihood: tensor([[-75.8357]])\n",
      "iteration 73\n",
      "old likelihood: tensor([[-75.8169]])\n",
      "iteration 74\n",
      "old likelihood: tensor([[-75.7985]])\n",
      "iteration 75\n",
      "old likelihood: tensor([[-75.7810]])\n",
      "iteration 76\n",
      "old likelihood: tensor([[-75.7635]])\n",
      "iteration 77\n",
      "old likelihood: tensor([[-75.7471]])\n",
      "iteration 78\n",
      "old likelihood: tensor([[-75.7303]])\n",
      "iteration 79\n",
      "old likelihood: tensor([[-75.7154]])\n",
      "iteration 80\n",
      "old likelihood: tensor([[-75.6990]])\n",
      "iteration 81\n",
      "old likelihood: tensor([[-75.6842]])\n",
      "iteration 82\n",
      "old likelihood: tensor([[-75.6694]])\n",
      "iteration 83\n",
      "old likelihood: tensor([[-75.6555]])\n",
      "iteration 84\n",
      "old likelihood: tensor([[-75.6411]])\n",
      "iteration 85\n",
      "old likelihood: tensor([[-75.6277]])\n",
      "iteration 86\n",
      "old likelihood: tensor([[-75.6136]])\n",
      "iteration 87\n",
      "old likelihood: tensor([[-75.6013]])\n",
      "iteration 88\n",
      "old likelihood: tensor([[-75.5875]])\n",
      "iteration 89\n",
      "old likelihood: tensor([[-75.5758]])\n",
      "iteration 90\n",
      "old likelihood: tensor([[-75.5642]])\n",
      "iteration 91\n",
      "old likelihood: tensor([[-75.5522]])\n",
      "iteration 92\n",
      "old likelihood: tensor([[-75.5404]])\n",
      "iteration 93\n",
      "old likelihood: tensor([[-75.5293]])\n",
      "iteration 94\n",
      "old likelihood: tensor([[-75.5186]])\n",
      "iteration 95\n",
      "old likelihood: tensor([[-75.5070]])\n",
      "iteration 96\n",
      "old likelihood: tensor([[-75.4961]])\n",
      "iteration 97\n",
      "old likelihood: tensor([[-75.4862]])\n",
      "iteration 98\n",
      "old likelihood: tensor([[-75.4766]])\n",
      "iteration 99\n",
      "old likelihood: tensor([[-75.4660]])\n"
     ]
    }
   ],
   "source": [
    "iohmm.baum_welch()"
   ]
  },
  {
   "cell_type": "code",
   "execution_count": null,
   "metadata": {},
   "outputs": [],
   "source": []
  },
  {
   "cell_type": "code",
   "execution_count": 8,
   "metadata": {},
   "outputs": [
    {
     "name": "stdout",
     "output_type": "stream",
     "text": [
      "Final parameters:\n",
      "Theta transition:Parameter containing:\n",
      "tensor([[[-1.2319, -0.9040],\n",
      "         [ 2.5864,  1.9091]],\n",
      "\n",
      "        [[ 1.6771,  1.2061],\n",
      "         [-1.6977,  1.2237]]], requires_grad=True)\n",
      "Theta emission:Parameter containing:\n",
      "tensor([[ 0.2979, -1.1906],\n",
      "        [-0.1875, -0.7225]], requires_grad=True)\n"
     ]
    }
   ],
   "source": [
    "print(\"Final parameters:\")\n",
    "print(f\"Theta transition:{iohmm.theta_transition}\")\n",
    "print(f\"Theta emission:{iohmm.theta_emission}\")"
   ]
  },
  {
   "cell_type": "code",
   "execution_count": 9,
   "metadata": {},
   "outputs": [
    {
     "name": "stdout",
     "output_type": "stream",
     "text": [
      "[-inf, tensor([[-89.4763]]), tensor([[-86.8117]]), tensor([[-85.5390]]), tensor([[-84.7287]]), tensor([[-84.1144]]), tensor([[-83.5987]]), tensor([[-83.1375]]), tensor([[-82.7116]]), tensor([[-82.3134]]), tensor([[-81.9362]]), tensor([[-81.5817]]), tensor([[-81.2476]]), tensor([[-80.9295]]), tensor([[-80.6318]]), tensor([[-80.3517]]), tensor([[-80.0899]]), tensor([[-79.8443]]), tensor([[-79.6126]]), tensor([[-79.3969]]), tensor([[-79.1951]]), tensor([[-79.0051]]), tensor([[-78.8281]]), tensor([[-78.6607]]), tensor([[-78.5059]]), tensor([[-78.3592]]), tensor([[-78.2222]]), tensor([[-78.0925]]), tensor([[-77.9707]]), tensor([[-77.8558]]), tensor([[-77.7485]]), tensor([[-77.6468]]), tensor([[-77.5495]]), tensor([[-77.4593]]), tensor([[-77.3723]]), tensor([[-77.2906]]), tensor([[-77.2140]]), tensor([[-77.1400]]), tensor([[-77.0700]]), tensor([[-77.0027]]), tensor([[-76.9393]]), tensor([[-76.8802]]), tensor([[-76.8218]]), tensor([[-76.7662]]), tensor([[-76.7142]]), tensor([[-76.6641]]), tensor([[-76.6156]]), tensor([[-76.5698]]), tensor([[-76.5249]]), tensor([[-76.4822]]), tensor([[-76.4427]]), tensor([[-76.4030]]), tensor([[-76.3648]]), tensor([[-76.3286]]), tensor([[-76.2938]]), tensor([[-76.2610]]), tensor([[-76.2288]]), tensor([[-76.1972]]), tensor([[-76.1665]]), tensor([[-76.1374]]), tensor([[-76.1103]]), tensor([[-76.0830]]), tensor([[-76.0565]]), tensor([[-76.0320]]), tensor([[-76.0072]]), tensor([[-75.9835]]), tensor([[-75.9599]]), tensor([[-75.9374]]), tensor([[-75.9161]]), tensor([[-75.8938]]), tensor([[-75.8749]]), tensor([[-75.8541]]), tensor([[-75.8357]]), tensor([[-75.8169]]), tensor([[-75.7985]]), tensor([[-75.7810]]), tensor([[-75.7635]]), tensor([[-75.7471]]), tensor([[-75.7303]]), tensor([[-75.7154]]), tensor([[-75.6990]]), tensor([[-75.6842]]), tensor([[-75.6694]]), tensor([[-75.6555]]), tensor([[-75.6411]]), tensor([[-75.6277]]), tensor([[-75.6136]]), tensor([[-75.6013]]), tensor([[-75.5875]]), tensor([[-75.5758]]), tensor([[-75.5642]]), tensor([[-75.5522]]), tensor([[-75.5404]]), tensor([[-75.5293]]), tensor([[-75.5186]]), tensor([[-75.5070]]), tensor([[-75.4961]]), tensor([[-75.4862]]), tensor([[-75.4766]]), tensor([[-75.4660]])]\n"
     ]
    },
    {
     "name": "stderr",
     "output_type": "stream",
     "text": [
      "/tmp/ipykernel_11565/4278840530.py:4: DeprecationWarning: Conversion of an array with ndim > 0 to a scalar is deprecated, and will error in future. Ensure you extract a single element from your array before performing this operation. (Deprecated NumPy 1.25.)\n",
      "  history = [float(h.numpy()) if torch.is_tensor(h) else float(h) for h in iohmm.history]\n"
     ]
    },
    {
     "data": {
      "text/plain": [
       "[<matplotlib.lines.Line2D at 0x7f572e2358d0>]"
      ]
     },
     "execution_count": 9,
     "metadata": {},
     "output_type": "execute_result"
    },
    {
     "data": {
      "image/png": "[encoded data removed]",
      "text/plain": [
       "<Figure size 640x480 with 1 Axes>"
      ]
     },
     "metadata": {},
     "output_type": "display_data"
    }
   ],
   "source": [
    "print(iohmm.history)\n",
    "\n",
    "# Convert tensors to floats\n",
    "history = [float(h.numpy()) if torch.is_tensor(h) else float(h) for h in iohmm.history]\n",
    "\n",
    "# Plot the history\n",
    "plt.plot(history)"
   ]
  },
  {
   "cell_type": "code",
   "execution_count": 10,
   "metadata": {},
   "outputs": [
    {
     "ename": "IndexError",
     "evalue": "index 2 is out of bounds for dimension 1 with size 2",
     "output_type": "error",
     "traceback": [
      "\u001b[0;31m---------------------------------------------------------------------------\u001b[0m",
      "\u001b[0;31mIndexError\u001b[0m                                Traceback (most recent call last)",
      "Cell \u001b[0;32mIn[10], line 1\u001b[0m\n\u001b[0;32m----> 1\u001b[0m \u001b[43miohmm\u001b[49m\u001b[38;5;241;43m.\u001b[39;49m\u001b[43mviterbi\u001b[49m\u001b[43m(\u001b[49m\u001b[43m)\u001b[49m\n",
      "File \u001b[0;32m~/PML_project/IOHMM_self/IOHMM_v2/IOHMM_v2.py:286\u001b[0m, in \u001b[0;36mIOHMM_model.viterbi\u001b[0;34m(self)\u001b[0m\n\u001b[1;32m    284\u001b[0m state_sequence[\u001b[38;5;241m-\u001b[39m\u001b[38;5;241m1\u001b[39m]\u001b[38;5;241m=\u001b[39mtorch\u001b[38;5;241m.\u001b[39margmax(prob[\u001b[38;5;241m-\u001b[39m\u001b[38;5;241m1\u001b[39m,:])\n\u001b[1;32m    285\u001b[0m \u001b[38;5;28;01mfor\u001b[39;00m t \u001b[38;5;129;01min\u001b[39;00m \u001b[38;5;28mrange\u001b[39m(\u001b[38;5;28mlen\u001b[39m(\u001b[38;5;28mself\u001b[39m\u001b[38;5;241m.\u001b[39moutputs)\u001b[38;5;241m-\u001b[39m\u001b[38;5;241m2\u001b[39m,\u001b[38;5;241m-\u001b[39m\u001b[38;5;241m1\u001b[39m,\u001b[38;5;241m-\u001b[39m\u001b[38;5;241m1\u001b[39m):\n\u001b[0;32m--> 286\u001b[0m     state_sequence[t]\u001b[38;5;241m=\u001b[39m\u001b[43mpath\u001b[49m\u001b[43m[\u001b[49m\u001b[43mt\u001b[49m\u001b[38;5;241;43m+\u001b[39;49m\u001b[38;5;241;43m1\u001b[39;49m\u001b[43m,\u001b[49m\u001b[43mstate_sequence\u001b[49m\u001b[43m[\u001b[49m\u001b[43mt\u001b[49m\u001b[38;5;241;43m+\u001b[39;49m\u001b[38;5;241;43m1\u001b[39;49m\u001b[43m]\u001b[49m\u001b[43m]\u001b[49m\n\u001b[1;32m    287\u001b[0m \u001b[38;5;28;01mreturn\u001b[39;00m state_sequence\n",
      "\u001b[0;31mIndexError\u001b[0m: index 2 is out of bounds for dimension 1 with size 2"
     ]
    }
   ],
   "source": [
    "#iohmm.viterbi()"
   ]
  },
  {
   "cell_type": "code",
   "execution_count": null,
   "metadata": {},
   "outputs": [],
   "source": [
    "iohmm.plot_state_distribution()"
   ]
  }
 ],
 "metadata": {
  "kernelspec": {
   "display_name": "Python 3",
   "language": "python",
   "name": "python3"
  },
  "language_info": {
   "codemirror_mode": {
    "name": "ipython",
    "version": 3
   },
   "file_extension": ".py",
   "mimetype": "text/x-python",
   "name": "python",
   "nbconvert_exporter": "python",
   "pygments_lexer": "ipython3",
   "version": "3.10.12"
  }
 },
 "nbformat": 4,
 "nbformat_minor": 2
}
