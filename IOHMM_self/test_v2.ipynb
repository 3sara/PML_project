{
 "cells": [
  {
   "cell_type": "code",
   "execution_count": 1,
   "metadata": {},
   "outputs": [],
   "source": [
    "import pandas as pd\n",
    "import numpy as np\n",
    "import matplotlib.pyplot as plt\n",
    "import torch\n",
    "from hmmlearn import hmm\n",
    "from IOHMM_v2 import IOHMM_model"
   ]
  },
  {
   "cell_type": "code",
   "execution_count": 2,
   "metadata": {},
   "outputs": [],
   "source": [
    "# Generate data\n",
    "hmm_model = hmm.GaussianHMM(n_components=2, covariance_type=\"diag\", n_iter=100)\n",
    "hmm_model.startprob_ = np.array([0.0, 1.0])\n",
    "hmm_model.transmat_ = np.array([[0.9, 0.1],\n",
    "                                [0.1, 0.9]])\n",
    "hmm_model.means_ = np.array([[-10.0], [10.0]])\n",
    "hmm_model.covars_ = np.array([[.1], [.1]])\n",
    "# Sample data\n",
    "X, Z = hmm_model.sample(20)\n",
    "# Dataframe\n",
    "data = pd.DataFrame(X, columns=['X'])\n",
    "data['Z'] = Z\n",
    "\n",
    "output = torch.tensor(data['X'].values, dtype=torch.float32)\n",
    "input = torch.ones(output.size(), dtype=torch.float32).unsqueeze(1)"
   ]
  },
  {
   "cell_type": "code",
   "execution_count": 3,
   "metadata": {},
   "outputs": [
    {
     "name": "stdout",
     "output_type": "stream",
     "text": [
      "            X  Z\n",
      "0   10.067984  1\n",
      "1   10.138617  1\n",
      "2   10.203371  1\n",
      "3   10.069347  1\n",
      "4  -10.046782  0\n",
      "5   -9.916584  0\n",
      "6  -10.339358  0\n",
      "7   -9.947700  0\n",
      "8  -10.063378  0\n",
      "9  -10.126532  0\n",
      "10 -10.038387  0\n",
      "11 -10.037107  0\n",
      "12  -9.953461  0\n",
      "13 -10.165446  0\n",
      "14 -10.214173  0\n",
      "15  -9.895935  0\n",
      "16  -9.614626  0\n",
      "17 -10.263516  0\n",
      "18 -10.020425  0\n",
      "19  -9.605623  0\n"
     ]
    }
   ],
   "source": [
    "print(data)"
   ]
  },
  {
   "cell_type": "code",
   "execution_count": 4,
   "metadata": {},
   "outputs": [
    {
     "name": "stdout",
     "output_type": "stream",
     "text": [
      "Input size: torch.Size([20, 1])\n",
      "Output size: torch.Size([20])\n"
     ]
    }
   ],
   "source": [
    "print(\"Input size:\", input.size())\n",
    "print(\"Output size:\", output.size())"
   ]
  },
  {
   "cell_type": "code",
   "execution_count": 5,
   "metadata": {},
   "outputs": [],
   "source": [
    "iohmm = IOHMM_model(num_states=2, inputs=input, outputs=output, max_iter=10, tol=1e-40)"
   ]
  },
  {
   "cell_type": "code",
   "execution_count": 6,
   "metadata": {},
   "outputs": [
    {
     "name": "stdout",
     "output_type": "stream",
     "text": [
      "iteration 0\n",
      "iteration 1\n",
      "iteration 2\n",
      "iteration 3\n",
      "iteration 4\n",
      "iteration 5\n",
      "iteration 6\n",
      "iteration 7\n",
      "iteration 8\n",
      "iteration 9\n"
     ]
    }
   ],
   "source": [
    "iohmm.baum_welch()"
   ]
  },
  {
   "cell_type": "code",
   "execution_count": 7,
   "metadata": {},
   "outputs": [
    {
     "name": "stderr",
     "output_type": "stream",
     "text": [
      "/usr/lib/python3/dist-packages/numpy/core/shape_base.py:65: VisibleDeprecationWarning: Creating an ndarray from ragged nested sequences (which is a list-or-tuple of lists-or-tuples-or ndarrays with different lengths or shapes) is deprecated. If you meant to do this, you must specify 'dtype=object' when creating the ndarray.\n",
      "  ary = asanyarray(ary)\n"
     ]
    },
    {
     "data": {
      "text/plain": [
       "[<matplotlib.lines.Line2D at 0x73e6f7f2c460>]"
      ]
     },
     "execution_count": 7,
     "metadata": {},
     "output_type": "execute_result"
    },
    {
     "data": {
      "image/png": "[encoded data removed]",
      "text/plain": [
       "<Figure size 640x480 with 1 Axes>"
      ]
     },
     "metadata": {},
     "output_type": "display_data"
    }
   ],
   "source": [
    "plt.plot(iohmm.history)"
   ]
  },
  {
   "cell_type": "code",
   "execution_count": 8,
   "metadata": {},
   "outputs": [
    {
     "data": {
      "text/plain": [
       "[1, 0, 1, 0, 1, 0, 1, 0, 1, 0, 1, 0, 1, 0, 1, 0, 1, 0, 1, 0]"
      ]
     },
     "execution_count": 8,
     "metadata": {},
     "output_type": "execute_result"
    }
   ],
   "source": [
    "iohmm.viterbi()"
   ]
  }
 ],
 "metadata": {
  "kernelspec": {
   "display_name": "Python 3",
   "language": "python",
   "name": "python3"
  },
  "language_info": {
   "codemirror_mode": {
    "name": "ipython",
    "version": 3
   },
   "file_extension": ".py",
   "mimetype": "text/x-python",
   "name": "python",
   "nbconvert_exporter": "python",
   "pygments_lexer": "ipython3",
   "version": "3.10.12"
  }
 },
 "nbformat": 4,
 "nbformat_minor": 2
}
