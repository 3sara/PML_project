{
 "cells": [
  {
   "cell_type": "markdown",
   "metadata": {},
   "source": [
    "# UnSupervisedIOHMM"
   ]
  },
  {
   "cell_type": "code",
   "execution_count": 1,
   "metadata": {
    "collapsed": true
   },
   "outputs": [],
   "source": [
    "from IOHMM import IOHMM_model\n",
    "import numpy as np, pandas as pd\n",
    "import torch"
   ]
  },
  {
   "cell_type": "markdown",
   "metadata": {},
   "source": [
    "## Load data"
   ]
  },
  {
   "cell_type": "code",
   "execution_count": 2,
   "metadata": {
    "collapsed": false,
    "scrolled": true
   },
   "outputs": [
    {
     "name": "stdout",
     "output_type": "stream",
     "text": [
      "3259\n",
      "tensor([1.5887, 1.4640, 1.2800, 1.0740, 1.0533])\n",
      "tensor([[1.2667, 1.6667, 1.1693, 1.5927],\n",
      "        [1.7193, 2.0280, 1.5533, 1.5887],\n",
      "        [1.6667, 1.7280, 1.3513, 1.4640],\n",
      "        [1.5333, 1.5400, 1.2473, 1.2800],\n",
      "        [1.3333, 1.3333, 1.0553, 1.0740]])\n"
     ]
    },
    {
     "data": {
      "text/plain": [
       "tensor([  1.0000,   1.5887,   1.4640,  ..., 224.5700, 234.8600, 244.4000])"
      ]
     },
     "execution_count": 2,
     "metadata": {},
     "output_type": "execute_result"
    }
   ],
   "source": [
    "data = pd.read_csv(\"data/Financial-Data/stocks/TSLA.csv\")\n",
    "data.head()\n",
    "data = data.dropna()\n",
    "\n",
    "input_data = data[['Open', 'High', 'Low', 'Close']][:-1]\n",
    "\n",
    "\n",
    "# close price of the next day\n",
    "output_data = data['Close'][1:]\n",
    "# to start from 0 index\n",
    "output_data.index = range(len(output_data))\n",
    "\n",
    "output_data.name = 'Close-next-day'\n",
    "\n",
    "data = pd.concat([input_data, output_data], axis=1)\n",
    "\n",
    "data.head()\n",
    "print(len(data))\n",
    "\n",
    "\n",
    "input = torch.tensor(np.array(data[['Open', 'High', 'Low', 'Close']]), dtype=torch.float32)\n",
    "output = torch.tensor(np.array(data['Close-next-day']), dtype=torch.float32)\n",
    "\n",
    "print(output[0:5])\n",
    "print(input[0:5])\n",
    "torch.cat((torch.tensor([1.0]), output))\n",
    "\n"
   ]
  },
  {
   "cell_type": "markdown",
   "metadata": {},
   "source": [
    "# Example 1"
   ]
  },
  {
   "cell_type": "markdown",
   "metadata": {},
   "source": [
    "## Set up a simple model manully"
   ]
  },
  {
   "cell_type": "code",
   "execution_count": 3,
   "metadata": {
    "collapsed": true
   },
   "outputs": [
    {
     "name": "stdout",
     "output_type": "stream",
     "text": [
      "Parameter containing:\n",
      "tensor([0.5000, 0.5000], requires_grad=True)\n",
      "Parameter containing:\n",
      "tensor([[[-0.9880, -0.8880, -0.7954,  1.1781, -1.1204],\n",
      "         [ 0.8260,  0.9800,  1.1449, -1.5280, -0.7040]],\n",
      "\n",
      "        [[ 0.7336, -0.8079, -1.2494,  0.1465, -1.3178],\n",
      "         [ 1.5204, -1.4786, -0.1438,  0.6324, -2.1494]]], requires_grad=True)\n",
      "Parameter containing:\n",
      "tensor([[ 0.1295, -0.2061,  0.6660,  1.3893,  1.6279],\n",
      "        [ 0.8304,  0.3769,  1.0558,  1.1471, -0.9328]], requires_grad=True)\n",
      "Parameter containing:\n",
      "tensor([1., 1.], requires_grad=True)\n"
     ]
    }
   ],
   "source": [
    "IOHMM = IOHMM_model(num_states=2, inputs=input[:10], outputs=output[:10], max_iter=1000, tol=1e-6)\n",
    "print(IOHMM.initial_pi)\n",
    "print(IOHMM.transition_matrix)\n",
    "print(IOHMM.emission_matrix)\n",
    "print(IOHMM.sd)"
   ]
  },
  {
   "cell_type": "code",
   "execution_count": 4,
   "metadata": {},
   "outputs": [
    {
     "name": "stdout",
     "output_type": "stream",
     "text": [
      "tensor([[3.6315e-03, 9.9637e-01],\n",
      "        [1.9516e-04, 9.9980e-01],\n",
      "        [6.1931e-04, 9.9938e-01],\n",
      "        [2.8570e-03, 9.9714e-01],\n",
      "        [1.4082e-02, 9.8592e-01],\n",
      "        [1.5729e-02, 9.8427e-01],\n",
      "        [8.3607e-03, 9.9164e-01],\n",
      "        [7.8502e-03, 9.9215e-01],\n",
      "        [9.5679e-03, 9.9043e-01],\n",
      "        [6.7634e-03, 9.9324e-01]])\n"
     ]
    },
    {
     "data": {
      "text/plain": [
       "tensor([1.0000, 1.0000, 1.0000, 1.0000, 1.0000, 1.0000, 1.0000, 1.0000, 1.0000,\n",
       "        1.0000])"
      ]
     },
     "execution_count": 4,
     "metadata": {},
     "output_type": "execute_result"
    }
   ],
   "source": [
    "print(IOHMM._forward())\n",
    "torch.sum(IOHMM._forward(), dim=1)"
   ]
  },
  {
   "cell_type": "code",
   "execution_count": 5,
   "metadata": {},
   "outputs": [
    {
     "name": "stdout",
     "output_type": "stream",
     "text": [
      "tensor([[1.9516e-04, 9.9980e-01],\n",
      "        [6.1931e-04, 9.9938e-01],\n",
      "        [2.8570e-03, 9.9714e-01],\n",
      "        [1.4082e-02, 9.8592e-01],\n",
      "        [1.5729e-02, 9.8427e-01],\n",
      "        [8.3607e-03, 9.9164e-01],\n",
      "        [7.8502e-03, 9.9215e-01],\n",
      "        [9.5679e-03, 9.9043e-01],\n",
      "        [6.7634e-03, 9.9324e-01],\n",
      "        [1.9874e-03, 9.9801e-01]])\n"
     ]
    },
    {
     "data": {
      "text/plain": [
       "tensor([1.0000, 1.0000, 1.0000, 1.0000, 1.0000, 1.0000, 1.0000, 1.0000, 1.0000,\n",
       "        1.0000])"
      ]
     },
     "execution_count": 5,
     "metadata": {},
     "output_type": "execute_result"
    }
   ],
   "source": [
    "print(IOHMM._backward())\n",
    "torch.sum(IOHMM._backward(), dim=1)"
   ]
  },
  {
   "cell_type": "code",
   "execution_count": 6,
   "metadata": {},
   "outputs": [
    {
     "name": "stdout",
     "output_type": "stream",
     "text": [
      "tensor([[7.1146e-07, 1.0000e+00],\n",
      "        [1.2097e-07, 1.0000e+00],\n",
      "        [1.7755e-06, 1.0000e+00],\n",
      "        [4.0922e-05, 9.9996e-01],\n",
      "        [2.2820e-04, 9.9977e-01],\n",
      "        [1.3471e-04, 9.9987e-01],\n",
      "        [6.6705e-05, 9.9993e-01],\n",
      "        [7.6430e-05, 9.9992e-01],\n",
      "        [6.5777e-05, 9.9993e-01],\n",
      "        [1.3560e-05, 9.9999e-01]])\n"
     ]
    },
    {
     "data": {
      "text/plain": [
       "tensor([1.0000, 1.0000, 1.0000, 1.0000, 1.0000, 1.0000, 1.0000, 1.0000, 1.0000,\n",
       "        1.0000])"
      ]
     },
     "execution_count": 6,
     "metadata": {},
     "output_type": "execute_result"
    }
   ],
   "source": [
    "print(IOHMM._compute_gamma(IOHMM._forward(), IOHMM._backward()))\n",
    "torch.sum(IOHMM._compute_gamma(IOHMM._forward(), IOHMM._backward()), dim=1)"
   ]
  },
  {
   "cell_type": "code",
   "execution_count": 7,
   "metadata": {},
   "outputs": [
    {
     "name": "stdout",
     "output_type": "stream",
     "text": [
      "tensor([[[1.0447e-07, 5.0000e-01],\n",
      "         [1.0447e-07, 5.0000e-01]],\n",
      "\n",
      "        [[1.3748e-07, 5.0000e-01],\n",
      "         [1.3748e-07, 5.0000e-01]],\n",
      "\n",
      "        [[4.3770e-08, 5.0000e-01],\n",
      "         [4.3770e-08, 5.0000e-01]],\n",
      "\n",
      "        [[7.0984e-07, 5.0000e-01],\n",
      "         [7.0984e-07, 5.0000e-01]],\n",
      "\n",
      "        [[3.7712e-06, 5.0000e-01],\n",
      "         [3.7712e-06, 5.0000e-01]],\n",
      "\n",
      "        [[1.1238e-05, 4.9999e-01],\n",
      "         [1.1238e-05, 4.9999e-01]],\n",
      "\n",
      "        [[1.1738e-05, 4.9999e-01],\n",
      "         [1.1738e-05, 4.9999e-01]],\n",
      "\n",
      "        [[7.5380e-06, 4.9999e-01],\n",
      "         [7.5380e-06, 4.9999e-01]],\n",
      "\n",
      "        [[4.8798e-06, 5.0000e-01],\n",
      "         [4.8798e-06, 5.0000e-01]],\n",
      "\n",
      "        [[1.7304e-06, 5.0000e-01],\n",
      "         [1.7304e-06, 5.0000e-01]]])\n"
     ]
    },
    {
     "data": {
      "text/plain": [
       "tensor([1., 1., 1., 1., 1., 1., 1., 1., 1., 1.])"
      ]
     },
     "execution_count": 7,
     "metadata": {},
     "output_type": "execute_result"
    }
   ],
   "source": [
    "print(IOHMM._compute_xi(IOHMM._forward(), IOHMM._backward()))\n",
    "a = torch.sum(IOHMM._compute_xi(IOHMM._forward(), IOHMM._backward()), axis=1)\n",
    "torch.sum(a, axis=1)"
   ]
  },
  {
   "cell_type": "code",
   "execution_count": 8,
   "metadata": {},
   "outputs": [],
   "source": [
    "#IOHMM._baum_welch()"
   ]
  },
  {
   "cell_type": "markdown",
   "metadata": {},
   "source": [
    "## See the training results"
   ]
  },
  {
   "cell_type": "code",
   "execution_count": 9,
   "metadata": {},
   "outputs": [
    {
     "name": "stdout",
     "output_type": "stream",
     "text": [
      "Initial pi\n",
      "Parameter containing:\n",
      "tensor([0.5000, 0.5000], requires_grad=True)\n",
      "Transition matrix\n",
      "Parameter containing:\n",
      "tensor([[[-0.9880, -0.8880, -0.7954,  1.1781, -1.1204],\n",
      "         [ 0.8260,  0.9800,  1.1449, -1.5280, -0.7040]],\n",
      "\n",
      "        [[ 0.7336, -0.8079, -1.2494,  0.1465, -1.3178],\n",
      "         [ 1.5204, -1.4786, -0.1438,  0.6324, -2.1494]]], requires_grad=True)\n",
      "Emission matrix\n",
      "Parameter containing:\n",
      "tensor([[ 0.1295, -0.2061,  0.6660,  1.3893,  1.6279],\n",
      "        [ 0.8304,  0.3769,  1.0558,  1.1471, -0.9328]], requires_grad=True)\n",
      "Sd\n",
      "Parameter containing:\n",
      "tensor([1., 1.], requires_grad=True)\n"
     ]
    }
   ],
   "source": [
    "print(\"Initial pi\")\n",
    "print(IOHMM.initial_pi) # to normalize\n",
    "print(\"Transition matrix\")\n",
    "print(IOHMM.transition_matrix)\n",
    "print(\"Emission matrix\")\n",
    "print(IOHMM.emission_matrix)\n",
    "print(\"Sd\")\n",
    "print(IOHMM.sd)"
   ]
  },
  {
   "cell_type": "markdown",
   "metadata": {},
   "source": [
    "## Viterbi"
   ]
  },
  {
   "cell_type": "code",
   "execution_count": 10,
   "metadata": {},
   "outputs": [
    {
     "data": {
      "text/plain": [
       "tensor([1, 1, 1, 1, 1, 1, 1, 1, 1, 0])"
      ]
     },
     "execution_count": 10,
     "metadata": {},
     "output_type": "execute_result"
    }
   ],
   "source": [
    "#call the viterbi algorithm\n",
    "IOHMM.viterbi()"
   ]
  }
 ],
 "metadata": {
  "kernelspec": {
   "display_name": "Python 3",
   "language": "python",
   "name": "python3"
  },
  "language_info": {
   "codemirror_mode": {
    "name": "ipython",
    "version": 3
   },
   "file_extension": ".py",
   "mimetype": "text/x-python",
   "name": "python",
   "nbconvert_exporter": "python",
   "pygments_lexer": "ipython3",
   "version": "3.10.12"
  }
 },
 "nbformat": 4,
 "nbformat_minor": 1
}
