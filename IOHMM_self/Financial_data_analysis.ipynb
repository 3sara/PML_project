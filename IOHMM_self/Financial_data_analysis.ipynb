{
 "cells": [
  {
   "cell_type": "markdown",
   "metadata": {},
   "source": [
    "# UnSupervisedIOHMM"
   ]
  },
  {
   "cell_type": "code",
   "execution_count": 1,
   "metadata": {
    "collapsed": true
   },
   "outputs": [],
   "source": [
    "from IOHMM import IOHMM_model\n",
    "import numpy as np, pandas as pd\n",
    "import torch"
   ]
  },
  {
   "cell_type": "markdown",
   "metadata": {},
   "source": [
    "## Load data"
   ]
  },
  {
   "cell_type": "code",
   "execution_count": 2,
   "metadata": {
    "collapsed": false,
    "scrolled": true
   },
   "outputs": [
    {
     "name": "stdout",
     "output_type": "stream",
     "text": [
      "3259\n",
      "tensor([1.5887, 1.4640, 1.2800, 1.0740, 1.0533])\n",
      "tensor([[1.2667, 1.6667, 1.1693, 1.5927],\n",
      "        [1.7193, 2.0280, 1.5533, 1.5887],\n",
      "        [1.6667, 1.7280, 1.3513, 1.4640],\n",
      "        [1.5333, 1.5400, 1.2473, 1.2800],\n",
      "        [1.3333, 1.3333, 1.0553, 1.0740]])\n"
     ]
    },
    {
     "data": {
      "text/plain": [
       "tensor([  1.0000,   1.5887,   1.4640,  ..., 224.5700, 234.8600, 244.4000])"
      ]
     },
     "execution_count": 2,
     "metadata": {},
     "output_type": "execute_result"
    }
   ],
   "source": [
    "data = pd.read_csv(\"data/Financial-Data/stocks/TSLA.csv\")\n",
    "data.head()\n",
    "data = data.dropna()\n",
    "\n",
    "input_data = data[['Open', 'High', 'Low', 'Close']][:-1]\n",
    "\n",
    "\n",
    "# close price of the next day\n",
    "output_data = data['Close'][1:]\n",
    "# to start from 0 index\n",
    "output_data.index = range(len(output_data))\n",
    "\n",
    "output_data.name = 'Close-next-day'\n",
    "\n",
    "data = pd.concat([input_data, output_data], axis=1)\n",
    "\n",
    "data.head()\n",
    "print(len(data))\n",
    "\n",
    "\n",
    "input = torch.tensor(np.array(data[['Open', 'High', 'Low', 'Close']]), dtype=torch.float32)\n",
    "output = torch.tensor(np.array(data['Close-next-day']), dtype=torch.float32)\n",
    "\n",
    "print(output[0:5])\n",
    "print(input[0:5])\n",
    "torch.cat((torch.tensor([1.0]), output))\n",
    "\n"
   ]
  },
  {
   "cell_type": "markdown",
   "metadata": {},
   "source": [
    "# Example 1"
   ]
  },
  {
   "cell_type": "markdown",
   "metadata": {},
   "source": [
    "## Set up a simple model manully"
   ]
  },
  {
   "cell_type": "code",
   "execution_count": 3,
   "metadata": {
    "collapsed": true
   },
   "outputs": [
    {
     "name": "stdout",
     "output_type": "stream",
     "text": [
      "Parameter containing:\n",
      "tensor([0.5000, 0.5000], requires_grad=True)\n",
      "Parameter containing:\n",
      "tensor([[[-1.3993,  0.9210,  0.3408, -2.0423, -1.3345],\n",
      "         [ 1.2106, -1.2774, -0.3037, -1.8557, -1.1611]],\n",
      "\n",
      "        [[-0.3533, -1.0925, -0.4181, -0.2205,  0.2574],\n",
      "         [ 0.5611,  0.7013, -0.8395, -1.3649, -0.4215]]], requires_grad=True)\n",
      "Parameter containing:\n",
      "tensor([[ 0.1763, -1.6805, -1.7900, -0.3010,  0.4219],\n",
      "        [-1.3935, -0.8434,  0.3669, -1.3341, -0.0123]], requires_grad=True)\n",
      "Parameter containing:\n",
      "tensor([1., 1.], requires_grad=True)\n"
     ]
    }
   ],
   "source": [
    "IOHMM = IOHMM_model(num_states=2, inputs=input[:10], outputs=output[:10], max_iter=1000, tol=1e-6)\n",
    "print(IOHMM.initial_pi)\n",
    "print(IOHMM.transition_matrix)\n",
    "print(IOHMM.emission_matrix)\n",
    "print(IOHMM.sd)"
   ]
  },
  {
   "cell_type": "code",
   "execution_count": 4,
   "metadata": {},
   "outputs": [
    {
     "name": "stdout",
     "output_type": "stream",
     "text": [
      "tensor([[1.2872e-03, 9.9871e-01],\n",
      "        [3.4013e-06, 1.0000e+00],\n",
      "        [1.9425e-04, 9.9981e-01],\n",
      "        [2.1546e-03, 9.9785e-01],\n",
      "        [1.7199e-02, 9.8280e-01],\n",
      "        [2.4432e-01, 7.5568e-01],\n",
      "        [1.9091e-01, 8.0909e-01],\n",
      "        [1.4835e-01, 8.5165e-01],\n",
      "        [1.3585e-01, 8.6415e-01],\n",
      "        [1.2060e-01, 8.7940e-01]])\n"
     ]
    },
    {
     "data": {
      "text/plain": [
       "tensor([1.0000, 1.0000, 1.0000, 1.0000, 1.0000, 1.0000, 1.0000, 1.0000, 1.0000,\n",
       "        1.0000])"
      ]
     },
     "execution_count": 4,
     "metadata": {},
     "output_type": "execute_result"
    }
   ],
   "source": [
    "print(IOHMM._forward())\n",
    "torch.sum(IOHMM._forward(), dim=1)"
   ]
  },
  {
   "cell_type": "code",
   "execution_count": 5,
   "metadata": {},
   "outputs": [
    {
     "name": "stdout",
     "output_type": "stream",
     "text": [
      "tensor([[3.4013e-06, 1.0000e+00],\n",
      "        [1.9425e-04, 9.9981e-01],\n",
      "        [2.1546e-03, 9.9785e-01],\n",
      "        [1.7199e-02, 9.8280e-01],\n",
      "        [2.4432e-01, 7.5568e-01],\n",
      "        [1.9091e-01, 8.0909e-01],\n",
      "        [1.4835e-01, 8.5165e-01],\n",
      "        [1.3585e-01, 8.6415e-01],\n",
      "        [1.2060e-01, 8.7940e-01],\n",
      "        [1.7637e-03, 9.9824e-01]])\n"
     ]
    },
    {
     "data": {
      "text/plain": [
       "tensor([1.0000, 1.0000, 1.0000, 1.0000, 1.0000, 1.0000, 1.0000, 1.0000, 1.0000,\n",
       "        1.0000])"
      ]
     },
     "execution_count": 5,
     "metadata": {},
     "output_type": "execute_result"
    }
   ],
   "source": [
    "print(IOHMM._backward())\n",
    "torch.sum(IOHMM._backward(), dim=1)"
   ]
  },
  {
   "cell_type": "code",
   "execution_count": 6,
   "metadata": {},
   "outputs": [
    {
     "name": "stdout",
     "output_type": "stream",
     "text": [
      "tensor([[4.3838e-09, 1.0000e+00],\n",
      "        [6.6082e-10, 1.0000e+00],\n",
      "        [4.1950e-07, 1.0000e+00],\n",
      "        [3.7785e-05, 9.9996e-01],\n",
      "        [5.6262e-03, 9.9437e-01],\n",
      "        [7.0883e-02, 9.2912e-01],\n",
      "        [3.9479e-02, 9.6052e-01],\n",
      "        [2.6653e-02, 9.7335e-01],\n",
      "        [2.1104e-02, 9.7890e-01],\n",
      "        [2.4225e-04, 9.9976e-01]])\n"
     ]
    },
    {
     "data": {
      "text/plain": [
       "tensor([1.0000, 1.0000, 1.0000, 1.0000, 1.0000, 1.0000, 1.0000, 1.0000, 1.0000,\n",
       "        1.0000])"
      ]
     },
     "execution_count": 6,
     "metadata": {},
     "output_type": "execute_result"
    }
   ],
   "source": [
    "print(IOHMM._compute_gamma(IOHMM._forward(), IOHMM._backward()))\n",
    "torch.sum(IOHMM._compute_gamma(IOHMM._forward(), IOHMM._backward()), dim=1)"
   ]
  },
  {
   "cell_type": "code",
   "execution_count": 7,
   "metadata": {},
   "outputs": [
    {
     "name": "stdout",
     "output_type": "stream",
     "text": [
      "tensor([[[3.2472e-07, 5.0000e-01],\n",
      "         [3.2472e-07, 5.0000e-01]],\n",
      "\n",
      "        [[2.3239e-07, 5.0000e-01],\n",
      "         [2.3239e-07, 5.0000e-01]],\n",
      "\n",
      "        [[5.3583e-09, 5.0000e-01],\n",
      "         [5.3583e-09, 5.0000e-01]],\n",
      "\n",
      "        [[2.1337e-06, 5.0000e-01],\n",
      "         [2.1337e-06, 5.0000e-01]],\n",
      "\n",
      "        [[3.4733e-04, 4.9965e-01],\n",
      "         [3.4733e-04, 4.9965e-01]],\n",
      "\n",
      "        [[1.6853e-03, 4.9831e-01],\n",
      "         [1.6853e-03, 4.9831e-01]],\n",
      "\n",
      "        [[2.3589e-02, 4.7641e-01],\n",
      "         [2.3589e-02, 4.7641e-01]],\n",
      "\n",
      "        [[1.6797e-02, 4.8320e-01],\n",
      "         [1.6797e-02, 4.8320e-01]],\n",
      "\n",
      "        [[1.1155e-02, 4.8884e-01],\n",
      "         [1.1155e-02, 4.8884e-01]],\n",
      "\n",
      "        [[1.3615e-04, 4.9986e-01],\n",
      "         [1.3615e-04, 4.9986e-01]]])\n"
     ]
    },
    {
     "data": {
      "text/plain": [
       "tensor([1.0000, 1.0000, 1.0000, 1.0000, 1.0000, 1.0000, 1.0000, 1.0000, 1.0000,\n",
       "        1.0000])"
      ]
     },
     "execution_count": 7,
     "metadata": {},
     "output_type": "execute_result"
    }
   ],
   "source": [
    "print(IOHMM._compute_xi(IOHMM._forward(), IOHMM._backward()))\n",
    "a = torch.sum(IOHMM._compute_xi(IOHMM._forward(), IOHMM._backward()), axis=1)\n",
    "torch.sum(a, axis=1)"
   ]
  },
  {
   "cell_type": "code",
   "execution_count": 8,
   "metadata": {},
   "outputs": [],
   "source": [
    "IOHMM._baum_welch()"
   ]
  },
  {
   "cell_type": "markdown",
   "metadata": {},
   "source": [
    "## See the training results"
   ]
  },
  {
   "cell_type": "code",
   "execution_count": 9,
   "metadata": {},
   "outputs": [
    {
     "name": "stdout",
     "output_type": "stream",
     "text": [
      "Initial pi\n",
      "Parameter containing:\n",
      "tensor([8.7242e-01, 1.0083e+07], requires_grad=True)\n",
      "Transition matrix\n",
      "Parameter containing:\n",
      "tensor([[[-1.3993,  0.9210,  0.3408, -2.0423, -1.3345],\n",
      "         [ 1.2106, -1.2774, -0.3037, -1.8557, -1.1611]],\n",
      "\n",
      "        [[-0.3533, -1.0925, -0.4181, -0.2205,  0.2574],\n",
      "         [ 0.5611,  0.7013, -0.8395, -1.3649, -0.4215]]], requires_grad=True)\n",
      "Emission matrix\n",
      "Parameter containing:\n",
      "tensor([[ 0.1763, -1.6805, -1.7900, -0.3010,  0.4219],\n",
      "        [-1.3935, -0.8434,  0.3669, -1.3341, -0.0123]], requires_grad=True)\n",
      "Sd\n",
      "Parameter containing:\n",
      "tensor([1., 1.], requires_grad=True)\n"
     ]
    }
   ],
   "source": [
    "print(\"Initial pi\")\n",
    "print(IOHMM.initial_pi) # to normalize\n",
    "print(\"Transition matrix\")\n",
    "print(IOHMM.transition_matrix)\n",
    "print(\"Emission matrix\")\n",
    "print(IOHMM.emission_matrix)\n",
    "print(\"Sd\")\n",
    "print(IOHMM.sd)"
   ]
  }
 ],
 "metadata": {
  "kernelspec": {
   "display_name": "Python 3",
   "language": "python",
   "name": "python3"
  },
  "language_info": {
   "codemirror_mode": {
    "name": "ipython",
    "version": 3
   },
   "file_extension": ".py",
   "mimetype": "text/x-python",
   "name": "python",
   "nbconvert_exporter": "python",
   "pygments_lexer": "ipython3",
   "version": "3.9.18"
  }
 },
 "nbformat": 4,
 "nbformat_minor": 1
}
