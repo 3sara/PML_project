{
 "cells": [
  {
   "cell_type": "markdown",
   "metadata": {},
   "source": [
    "# UnSupervisedIOHMM"
   ]
  },
  {
   "cell_type": "code",
   "execution_count": 9,
   "metadata": {
    "collapsed": true
   },
   "outputs": [],
   "source": [
    "from IOHMM import IOHMM_model\n",
    "import numpy as np, pandas as pd\n",
    "import torch"
   ]
  },
  {
   "cell_type": "markdown",
   "metadata": {},
   "source": [
    "## Load data"
   ]
  },
  {
   "cell_type": "code",
   "execution_count": 10,
   "metadata": {
    "collapsed": false,
    "scrolled": true
   },
   "outputs": [
    {
     "name": "stdout",
     "output_type": "stream",
     "text": [
      "3259\n",
      "tensor([1.5887, 1.4640, 1.2800, 1.0740, 1.0533])\n",
      "tensor([[1.2667, 1.6667, 1.1693, 1.5927],\n",
      "        [1.7193, 2.0280, 1.5533, 1.5887],\n",
      "        [1.6667, 1.7280, 1.3513, 1.4640],\n",
      "        [1.5333, 1.5400, 1.2473, 1.2800],\n",
      "        [1.3333, 1.3333, 1.0553, 1.0740]])\n"
     ]
    },
    {
     "data": {
      "text/plain": [
       "tensor([  1.0000,   1.5887,   1.4640,  ..., 224.5700, 234.8600, 244.4000])"
      ]
     },
     "execution_count": 10,
     "metadata": {},
     "output_type": "execute_result"
    }
   ],
   "source": [
    "data = pd.read_csv(\"data/Financial-Data/stocks/TSLA.csv\")\n",
    "data.head()\n",
    "data = data.dropna()\n",
    "\n",
    "input_data = data[['Open', 'High', 'Low', 'Close']][:-1]\n",
    "\n",
    "\n",
    "# close price of the next day\n",
    "output_data = data['Close'][1:]\n",
    "# to start from 0 index\n",
    "output_data.index = range(len(output_data))\n",
    "\n",
    "output_data.name = 'Close-next-day'\n",
    "\n",
    "data = pd.concat([input_data, output_data], axis=1)\n",
    "\n",
    "data.head()\n",
    "print(len(data))\n",
    "\n",
    "\n",
    "input = torch.tensor(np.array(data[['Open', 'High', 'Low', 'Close']]), dtype=torch.float32)\n",
    "output = torch.tensor(np.array(data['Close-next-day']), dtype=torch.float32)\n",
    "\n",
    "print(output[0:5])\n",
    "print(input[0:5])\n",
    "torch.cat((torch.tensor([1.0]), output))"
   ]
  },
  {
   "cell_type": "markdown",
   "metadata": {},
   "source": [
    "# Example 1"
   ]
  },
  {
   "cell_type": "markdown",
   "metadata": {},
   "source": [
    "## Set up a simple model manully"
   ]
  },
  {
   "cell_type": "code",
   "execution_count": 11,
   "metadata": {
    "collapsed": true
   },
   "outputs": [
    {
     "name": "stdout",
     "output_type": "stream",
     "text": [
      "Parameter containing:\n",
      "tensor([0.5000, 0.5000], requires_grad=True)\n",
      "Parameter containing:\n",
      "tensor([[[ 0.9200, -0.4089,  0.2766, -0.4173,  0.0832],\n",
      "         [-0.7292,  0.3889,  1.3879,  0.1671,  0.7959]],\n",
      "\n",
      "        [[ 0.7234,  0.2948, -0.7810,  0.1341, -0.5918],\n",
      "         [-0.8479, -0.7565, -0.5625,  1.0084, -0.2985]]], requires_grad=True)\n",
      "Parameter containing:\n",
      "tensor([[ 0.3396,  0.5620, -0.2205, -1.1630, -0.3678],\n",
      "        [ 0.3874,  1.3382, -0.6726, -0.6105,  0.3642]], requires_grad=True)\n",
      "Parameter containing:\n",
      "tensor([1., 1.], requires_grad=True)\n"
     ]
    }
   ],
   "source": [
    "IOHMM = IOHMM_model(num_states=2, inputs=input[:10], outputs=output[:10], max_iter=1000, tol=1e-6)\n",
    "print(IOHMM.initial_pi)\n",
    "print(IOHMM.transition_matrix)\n",
    "print(IOHMM.emission_matrix)\n",
    "print(IOHMM.sd)"
   ]
  },
  {
   "cell_type": "code",
   "execution_count": 12,
   "metadata": {},
   "outputs": [
    {
     "name": "stdout",
     "output_type": "stream",
     "text": [
      "tensor([[0.0225, 0.9775],\n",
      "        [0.0326, 0.9674],\n",
      "        [0.1073, 0.8927],\n",
      "        [0.2010, 0.7990],\n",
      "        [0.2396, 0.7604],\n",
      "        [0.1976, 0.8024],\n",
      "        [0.1805, 0.8195],\n",
      "        [0.1718, 0.8282],\n",
      "        [0.1542, 0.8458],\n",
      "        [0.1239, 0.8761]])\n"
     ]
    },
    {
     "data": {
      "text/plain": [
       "tensor([1.0000, 1.0000, 1.0000, 1.0000, 1.0000, 1.0000, 1.0000, 1.0000, 1.0000,\n",
       "        1.0000])"
      ]
     },
     "execution_count": 12,
     "metadata": {},
     "output_type": "execute_result"
    }
   ],
   "source": [
    "print(IOHMM._forward())\n",
    "torch.sum(IOHMM._forward(), dim=1)"
   ]
  },
  {
   "cell_type": "code",
   "execution_count": 13,
   "metadata": {},
   "outputs": [
    {
     "name": "stdout",
     "output_type": "stream",
     "text": [
      "tensor([[0.0274, 0.9726],\n",
      "        [0.0759, 0.9241],\n",
      "        [0.1436, 0.8564],\n",
      "        [0.2257, 0.7743],\n",
      "        [0.2250, 0.7750],\n",
      "        [0.1878, 0.8122],\n",
      "        [0.1806, 0.8194],\n",
      "        [0.1593, 0.8407],\n",
      "        [0.1587, 0.8413],\n",
      "        [0.0643, 0.9357]])\n"
     ]
    },
    {
     "data": {
      "text/plain": [
       "tensor([1.0000, 1.0000, 1.0000, 1.0000, 1.0000, 1.0000, 1.0000, 1.0000, 1.0000,\n",
       "        1.0000])"
      ]
     },
     "execution_count": 13,
     "metadata": {},
     "output_type": "execute_result"
    }
   ],
   "source": [
    "print(IOHMM._backward())\n",
    "torch.sum(IOHMM._backward(), dim=1)"
   ]
  },
  {
   "cell_type": "code",
   "execution_count": 14,
   "metadata": {},
   "outputs": [
    {
     "name": "stdout",
     "output_type": "stream",
     "text": [
      "tensor([[6.4776e-04, 9.9935e-01],\n",
      "        [2.7628e-03, 9.9724e-01],\n",
      "        [1.9752e-02, 9.8025e-01],\n",
      "        [6.8333e-02, 9.3167e-01],\n",
      "        [8.3808e-02, 9.1619e-01],\n",
      "        [5.3868e-02, 9.4613e-01],\n",
      "        [4.6290e-02, 9.5371e-01],\n",
      "        [3.7839e-02, 9.6216e-01],\n",
      "        [3.3239e-02, 9.6676e-01],\n",
      "        [9.6266e-03, 9.9037e-01]])\n"
     ]
    },
    {
     "data": {
      "text/plain": [
       "tensor([1.0000, 1.0000, 1.0000, 1.0000, 1.0000, 1.0000, 1.0000, 1.0000, 1.0000,\n",
       "        1.0000])"
      ]
     },
     "execution_count": 14,
     "metadata": {},
     "output_type": "execute_result"
    }
   ],
   "source": [
    "print(IOHMM._compute_gamma(IOHMM._forward(), IOHMM._backward()))\n",
    "torch.sum(IOHMM._compute_gamma(IOHMM._forward(), IOHMM._backward()), dim=1)"
   ]
  },
  {
   "cell_type": "code",
   "execution_count": 15,
   "metadata": {},
   "outputs": [
    {
     "name": "stdout",
     "output_type": "stream",
     "text": [
      "tensor([[[4.4176e-04, 5.0301e-02],\n",
      "         [3.2481e-01, 6.2444e-01]],\n",
      "\n",
      "        [[1.0065e-04, 1.8616e-01],\n",
      "         [6.8013e-02, 7.4572e-01]],\n",
      "\n",
      "        [[4.7274e-04, 3.5495e-01],\n",
      "         [8.7420e-02, 5.5715e-01]],\n",
      "\n",
      "        [[3.2421e-03, 4.2382e-01],\n",
      "         [2.0757e-01, 3.6537e-01]],\n",
      "\n",
      "        [[1.0271e-02, 3.5545e-01],\n",
      "         [3.4537e-01, 2.8892e-01]],\n",
      "\n",
      "        [[1.5412e-02, 2.6829e-01],\n",
      "         [3.9898e-01, 3.1732e-01]],\n",
      "\n",
      "        [[1.0909e-02, 2.7169e-01],\n",
      "         [3.4557e-01, 3.7182e-01]],\n",
      "\n",
      "        [[8.0762e-03, 2.5680e-01],\n",
      "         [3.4225e-01, 3.9288e-01]],\n",
      "\n",
      "        [[7.5151e-03, 2.6145e-01],\n",
      "         [3.3077e-01, 4.0026e-01]],\n",
      "\n",
      "        [[2.8180e-03, 1.1611e-01],\n",
      "         [3.6154e-01, 5.1954e-01]]])\n"
     ]
    },
    {
     "data": {
      "text/plain": [
       "tensor([1.0000, 1.0000, 1.0000, 1.0000, 1.0000, 1.0000, 1.0000, 1.0000, 1.0000,\n",
       "        1.0000])"
      ]
     },
     "execution_count": 15,
     "metadata": {},
     "output_type": "execute_result"
    }
   ],
   "source": [
    "print(IOHMM._compute_xi(IOHMM._forward(), IOHMM._backward()))\n",
    "a = torch.sum(IOHMM._compute_xi(IOHMM._forward(), IOHMM._backward()), axis=1)\n",
    "torch.sum(a, axis=1)"
   ]
  },
  {
   "cell_type": "code",
   "execution_count": 16,
   "metadata": {},
   "outputs": [],
   "source": [
    "IOHMM._baum_welch()"
   ]
  },
  {
   "cell_type": "markdown",
   "metadata": {},
   "source": [
    "## See the training results"
   ]
  },
  {
   "cell_type": "code",
   "execution_count": 17,
   "metadata": {},
   "outputs": [
    {
     "name": "stdout",
     "output_type": "stream",
     "text": [
      "Initial pi\n",
      "Parameter containing:\n",
      "tensor([6.6731e+03, 1.0089e+07], requires_grad=True)\n",
      "Transition matrix\n",
      "Parameter containing:\n",
      "tensor([[[ 0.9200, -0.4089,  0.2766, -0.4173,  0.0832],\n",
      "         [-0.7292,  0.3889,  1.3879,  0.1671,  0.7959]],\n",
      "\n",
      "        [[ 0.7234,  0.2948, -0.7810,  0.1341, -0.5918],\n",
      "         [-0.8479, -0.7565, -0.5625,  1.0084, -0.2985]]], requires_grad=True)\n",
      "Emission matrix\n",
      "Parameter containing:\n",
      "tensor([[ 0.3396,  0.5620, -0.2205, -1.1630, -0.3678],\n",
      "        [ 0.3874,  1.3382, -0.6726, -0.6105,  0.3642]], requires_grad=True)\n",
      "Sd\n",
      "Parameter containing:\n",
      "tensor([1., 1.], requires_grad=True)\n"
     ]
    }
   ],
   "source": [
    "print(\"Initial pi\")\n",
    "print(IOHMM.initial_pi) # to normalize\n",
    "print(\"Transition matrix\")\n",
    "print(IOHMM.transition_matrix)\n",
    "print(\"Emission matrix\")\n",
    "print(IOHMM.emission_matrix)\n",
    "print(\"Sd\")\n",
    "print(IOHMM.sd)"
   ]
  }
 ],
 "metadata": {
  "kernelspec": {
   "display_name": "Python 3",
   "language": "python",
   "name": "python3"
  },
  "language_info": {
   "codemirror_mode": {
    "name": "ipython",
    "version": 3
   },
   "file_extension": ".py",
   "mimetype": "text/x-python",
   "name": "python",
   "nbconvert_exporter": "python",
   "pygments_lexer": "ipython3",
   "version": "3.9.18"
  }
 },
 "nbformat": 4,
 "nbformat_minor": 1
}
