{
 "cells": [
  {
   "cell_type": "markdown",
   "metadata": {},
   "source": [
    "## Implementation"
   ]
  },
  {
   "cell_type": "code",
   "execution_count": 13,
   "metadata": {},
   "outputs": [],
   "source": [
    "from IOHMM import IOHMM_model\n",
    "import numpy as np, pandas as pd\n",
    "import torch"
   ]
  },
  {
   "cell_type": "code",
   "execution_count": 2,
   "metadata": {},
   "outputs": [
    {
     "name": "stdout",
     "output_type": "stream",
     "text": [
      "3259\n",
      "tensor([1.5887, 1.4640, 1.2800, 1.0740, 1.0533])\n",
      "tensor([[1.2667, 1.6667, 1.1693, 1.5927],\n",
      "        [1.7193, 2.0280, 1.5533, 1.5887],\n",
      "        [1.6667, 1.7280, 1.3513, 1.4640],\n",
      "        [1.5333, 1.5400, 1.2473, 1.2800],\n",
      "        [1.3333, 1.3333, 1.0553, 1.0740]])\n"
     ]
    },
    {
     "data": {
      "text/plain": [
       "tensor([  1.0000,   1.5887,   1.4640,  ..., 224.5700, 234.8600, 244.4000])"
      ]
     },
     "execution_count": 2,
     "metadata": {},
     "output_type": "execute_result"
    }
   ],
   "source": [
    "data = pd.read_csv(\"data/Financial-Data/stocks/TSLA.csv\")\n",
    "data.head()\n",
    "data = data.dropna()\n",
    "input_data = data[['Open', 'High', 'Low', 'Close']][:-1]\n",
    "\n",
    "\n",
    "# close price of the next day\n",
    "output_data = data['Close'][1:]\n",
    "# to start from 0 index\n",
    "output_data.index = range(len(output_data))\n",
    "\n",
    "output_data.name = 'Close-next-day'\n",
    "\n",
    "data = pd.concat([input_data, output_data], axis=1)\n",
    "\n",
    "data.head()\n",
    "print(len(data))\n",
    "\n",
    "\n",
    "input = torch.tensor(np.array(data[['Open', 'High', 'Low', 'Close']]), dtype=torch.float32)\n",
    "output = torch.tensor(np.array(data['Close-next-day']), dtype=torch.float32)\n",
    "\n",
    "print(output[0:5])\n",
    "print(input[0:5])\n",
    "torch.cat((torch.tensor([1.0]), output))\n"
   ]
  },
  {
   "cell_type": "code",
   "execution_count": 3,
   "metadata": {},
   "outputs": [
    {
     "name": "stdout",
     "output_type": "stream",
     "text": [
      "3259\n",
      "tensor([1.5887, 1.4640, 1.2800, 1.0740, 1.0533])\n",
      "tensor([[1.2667, 1.6667, 1.1693, 1.5927],\n",
      "        [1.7193, 2.0280, 1.5533, 1.5887],\n",
      "        [1.6667, 1.7280, 1.3513, 1.4640],\n",
      "        [1.5333, 1.5400, 1.2473, 1.2800],\n",
      "        [1.3333, 1.3333, 1.0553, 1.0740]])\n"
     ]
    },
    {
     "data": {
      "text/plain": [
       "tensor([  1.0000,   1.5887,   1.4640,  ..., 224.5700, 234.8600, 244.4000])"
      ]
     },
     "execution_count": 3,
     "metadata": {},
     "output_type": "execute_result"
    }
   ],
   "source": [
    "data = pd.read_csv(\"data/Financial-Data/stocks/TSLA.csv\")\n",
    "data.head()\n",
    "data = data.dropna()\n",
    "input_data = data[['Open', 'High', 'Low', 'Close']][:-1]\n",
    "\n",
    "\n",
    "# close price of the next day\n",
    "output_data = data['Close'][1:]\n",
    "# to start from 0 index\n",
    "output_data.index = range(len(output_data))\n",
    "\n",
    "output_data.name = 'Close-next-day'\n",
    "\n",
    "data = pd.concat([input_data, output_data], axis=1)\n",
    "\n",
    "data.head()\n",
    "print(len(data))\n",
    "\n",
    "\n",
    "input = torch.tensor(np.array(data[['Open', 'High', 'Low', 'Close']]), dtype=torch.float32)\n",
    "output = torch.tensor(np.array(data['Close-next-day']), dtype=torch.float32)\n",
    "\n",
    "print(output[0:5])\n",
    "print(input[0:5])\n",
    "torch.cat((torch.tensor([1.0]), output))\n"
   ]
  },
  {
   "cell_type": "markdown",
   "metadata": {},
   "source": [
    "# Example 1"
   ]
  },
  {
   "cell_type": "markdown",
   "metadata": {},
   "source": [
    "## Set up a simple model manully"
   ]
  },
  {
   "cell_type": "code",
   "execution_count": 4,
   "metadata": {
    "collapsed": true
   },
   "outputs": [
    {
     "name": "stdout",
     "output_type": "stream",
     "text": [
      "Parameter containing:\n",
      "tensor([0.5000, 0.5000], requires_grad=True)\n",
      "Parameter containing:\n",
      "tensor([[[-0.2661, -1.9592,  0.1232,  0.0702, -0.8170],\n",
      "         [-0.3367,  1.6466,  1.4688, -3.0883,  1.3104]],\n",
      "\n",
      "        [[ 0.4049,  0.1141,  0.4214,  0.0888, -0.1736],\n",
      "         [-1.9460, -0.7568, -0.5346, -1.2838,  0.2673]]], requires_grad=True)\n",
      "Parameter containing:\n",
      "tensor([[-0.7389, -2.3656,  0.6441,  1.1685,  1.4863],\n",
      "        [ 0.2303,  0.0119,  0.0257, -0.0583,  0.0672]], requires_grad=True)\n",
      "Parameter containing:\n",
      "tensor([1., 1.], requires_grad=True)\n"
     ]
    }
   ],
   "source": [
    "IOHMM = IOHMM_model(num_states=2, inputs=input[:10], outputs=output[:10], max_iter=1000, tol=1e-6)\n",
    "print(IOHMM.initial_pi)\n",
    "print(IOHMM.transition_matrix)\n",
    "print(IOHMM.emission_matrix)\n",
    "print(IOHMM.sd)"
   ]
  },
  {
   "cell_type": "code",
   "execution_count": 5,
   "metadata": {},
   "outputs": [
    {
     "name": "stdout",
     "output_type": "stream",
     "text": [
      "tensor([[0.6598, 0.3402],\n",
      "        [0.5850, 0.4150],\n",
      "        [0.4672, 0.5328],\n",
      "        [0.4269, 0.5731],\n",
      "        [0.3773, 0.6227],\n",
      "        [0.4614, 0.5386],\n",
      "        [0.5275, 0.4725],\n",
      "        [0.4988, 0.5012],\n",
      "        [0.4866, 0.5134],\n",
      "        [0.5365, 0.4635]])\n"
     ]
    },
    {
     "data": {
      "text/plain": [
       "tensor([1.0000, 1.0000, 1.0000, 1.0000, 1.0000, 1.0000, 1.0000, 1.0000, 1.0000,\n",
       "        1.0000])"
      ]
     },
     "execution_count": 5,
     "metadata": {},
     "output_type": "execute_result"
    }
   ],
   "source": [
    "print(IOHMM._forward())\n",
    "torch.sum(IOHMM._forward(), dim=1)"
   ]
  },
  {
   "cell_type": "code",
   "execution_count": 6,
   "metadata": {},
   "outputs": [
    {
     "name": "stdout",
     "output_type": "stream",
     "text": [
      "tensor([[0.5850, 0.4150],\n",
      "        [0.4672, 0.5328],\n",
      "        [0.4269, 0.5731],\n",
      "        [0.3773, 0.6227],\n",
      "        [0.4614, 0.5386],\n",
      "        [0.5275, 0.4725],\n",
      "        [0.4988, 0.5012],\n",
      "        [0.4866, 0.5134],\n",
      "        [0.5365, 0.4635],\n",
      "        [0.6140, 0.3860]])\n"
     ]
    },
    {
     "data": {
      "text/plain": [
       "tensor([1.0000, 1.0000, 1.0000, 1.0000, 1.0000, 1.0000, 1.0000, 1.0000, 1.0000,\n",
       "        1.0000])"
      ]
     },
     "execution_count": 6,
     "metadata": {},
     "output_type": "execute_result"
    }
   ],
   "source": [
    "print(IOHMM._backward())\n",
    "torch.sum(IOHMM._backward(), dim=1)"
   ]
  },
  {
   "cell_type": "code",
   "execution_count": 7,
   "metadata": {},
   "outputs": [
    {
     "name": "stdout",
     "output_type": "stream",
     "text": [
      "tensor([[0.7322, 0.2678],\n",
      "        [0.5527, 0.4473],\n",
      "        [0.3951, 0.6049],\n",
      "        [0.3110, 0.6890],\n",
      "        [0.3418, 0.6582],\n",
      "        [0.4889, 0.5111],\n",
      "        [0.5263, 0.4737],\n",
      "        [0.4854, 0.5146],\n",
      "        [0.5231, 0.4769],\n",
      "        [0.6480, 0.3520]])\n"
     ]
    },
    {
     "data": {
      "text/plain": [
       "tensor([1.0000, 1.0000, 1.0000, 1.0000, 1.0000, 1.0000, 1.0000, 1.0000, 1.0000,\n",
       "        1.0000])"
      ]
     },
     "execution_count": 7,
     "metadata": {},
     "output_type": "execute_result"
    }
   ],
   "source": [
    "print(IOHMM._compute_gamma(IOHMM._forward(), IOHMM._backward()))\n",
    "torch.sum(IOHMM._compute_gamma(IOHMM._forward(), IOHMM._backward()), dim=1)"
   ]
  },
  {
   "cell_type": "code",
   "execution_count": 8,
   "metadata": {},
   "outputs": [
    {
     "name": "stdout",
     "output_type": "stream",
     "text": [
      "tensor([[[0.3098, 0.1902],\n",
      "         [0.3098, 0.1902]],\n",
      "\n",
      "        [[0.3148, 0.1852],\n",
      "         [0.3148, 0.1852]],\n",
      "\n",
      "        [[0.2560, 0.2440],\n",
      "         [0.2560, 0.2440]],\n",
      "\n",
      "        [[0.1735, 0.3265],\n",
      "         [0.1735, 0.3265]],\n",
      "\n",
      "        [[0.1950, 0.3050],\n",
      "         [0.1950, 0.3050]],\n",
      "\n",
      "        [[0.2033, 0.2967],\n",
      "         [0.2033, 0.2967]],\n",
      "\n",
      "        [[0.2314, 0.2686],\n",
      "         [0.2314, 0.2686]],\n",
      "\n",
      "        [[0.2582, 0.2418],\n",
      "         [0.2582, 0.2418]],\n",
      "\n",
      "        [[0.2690, 0.2310],\n",
      "         [0.2690, 0.2310]],\n",
      "\n",
      "        [[0.3016, 0.1984],\n",
      "         [0.3016, 0.1984]]])\n"
     ]
    },
    {
     "data": {
      "text/plain": [
       "tensor([1., 1., 1., 1., 1., 1., 1., 1., 1., 1.])"
      ]
     },
     "execution_count": 8,
     "metadata": {},
     "output_type": "execute_result"
    }
   ],
   "source": [
    "print(IOHMM._compute_xi(IOHMM._forward(), IOHMM._backward()))\n",
    "a = torch.sum(IOHMM._compute_xi(IOHMM._forward(), IOHMM._backward()), axis=1)\n",
    "torch.sum(a, axis=1)"
   ]
  },
  {
   "cell_type": "code",
   "execution_count": 9,
   "metadata": {},
   "outputs": [],
   "source": [
    "#IOHMM._baum_welch()"
   ]
  },
  {
   "cell_type": "markdown",
   "metadata": {},
   "source": [
    "## See the training results"
   ]
  },
  {
   "cell_type": "code",
   "execution_count": 10,
   "metadata": {},
   "outputs": [
    {
     "name": "stdout",
     "output_type": "stream",
     "text": [
      "Initial pi\n",
      "Parameter containing:\n",
      "tensor([0.5000, 0.5000], requires_grad=True)\n",
      "Transition matrix\n",
      "Parameter containing:\n",
      "tensor([[[-0.2661, -1.9592,  0.1232,  0.0702, -0.8170],\n",
      "         [-0.3367,  1.6466,  1.4688, -3.0883,  1.3104]],\n",
      "\n",
      "        [[ 0.4049,  0.1141,  0.4214,  0.0888, -0.1736],\n",
      "         [-1.9460, -0.7568, -0.5346, -1.2838,  0.2673]]], requires_grad=True)\n",
      "Emission matrix\n",
      "Parameter containing:\n",
      "tensor([[-0.7389, -2.3656,  0.6441,  1.1685,  1.4863],\n",
      "        [ 0.2303,  0.0119,  0.0257, -0.0583,  0.0672]], requires_grad=True)\n",
      "Sd\n",
      "Parameter containing:\n",
      "tensor([1., 1.], requires_grad=True)\n"
     ]
    }
   ],
   "source": [
    "print(\"Initial pi\")\n",
    "print(IOHMM.initial_pi) # to normalize\n",
    "print(\"Transition matrix\")\n",
    "print(IOHMM.transition_matrix)\n",
    "print(\"Emission matrix\")\n",
    "print(IOHMM.emission_matrix)\n",
    "print(\"Sd\")\n",
    "print(IOHMM.sd)"
   ]
  },
  {
   "cell_type": "markdown",
   "metadata": {},
   "source": [
    "## Viterbi"
   ]
  },
  {
   "cell_type": "code",
   "execution_count": 11,
   "metadata": {},
   "outputs": [
    {
     "data": {
      "text/plain": [
       "tensor([0, 1, 1, 1, 1, 0, 1, 1, 0, 0])"
      ]
     },
     "execution_count": 11,
     "metadata": {},
     "output_type": "execute_result"
    }
   ],
   "source": [
    "#call the viterbi algorithm\n",
    "IOHMM.viterbi()"
   ]
  }
 ],
 "metadata": {
  "kernelspec": {
   "display_name": "Python 3",
   "language": "python",
   "name": "python3"
  },
  "language_info": {
   "codemirror_mode": {
    "name": "ipython",
    "version": 3
   },
   "file_extension": ".py",
   "mimetype": "text/x-python",
   "name": "python",
   "nbconvert_exporter": "python",
   "pygments_lexer": "ipython3",
   "version": "3.12.1"
  }
 },
 "nbformat": 4,
 "nbformat_minor": 1
}
