{
 "cells": [
  {
   "cell_type": "markdown",
   "metadata": {},
   "source": [
    "# UnSupervisedIOHMM"
   ]
  },
  {
   "cell_type": "code",
   "execution_count": 1,
   "metadata": {
    "collapsed": true
   },
   "outputs": [],
   "source": [
    "from IOHMM import IOHMM_model\n",
    "import numpy as np, pandas as pd\n",
    "import torch"
   ]
  },
  {
   "cell_type": "markdown",
   "metadata": {},
   "source": [
    "## Load data"
   ]
  },
  {
   "cell_type": "code",
   "execution_count": 2,
   "metadata": {
    "collapsed": false,
    "scrolled": true
   },
   "outputs": [
    {
     "name": "stdout",
     "output_type": "stream",
     "text": [
      "3259\n",
      "tensor([1.5887, 1.4640, 1.2800, 1.0740, 1.0533])\n",
      "tensor([[1.2667, 1.6667, 1.1693, 1.5927],\n",
      "        [1.7193, 2.0280, 1.5533, 1.5887],\n",
      "        [1.6667, 1.7280, 1.3513, 1.4640],\n",
      "        [1.5333, 1.5400, 1.2473, 1.2800],\n",
      "        [1.3333, 1.3333, 1.0553, 1.0740]])\n"
     ]
    },
    {
     "data": {
      "text/plain": [
       "tensor([  1.0000,   1.5887,   1.4640,  ..., 224.5700, 234.8600, 244.4000])"
      ]
     },
     "execution_count": 2,
     "metadata": {},
     "output_type": "execute_result"
    }
   ],
   "source": [
    "data = pd.read_csv(\"data/Financial-Data/stocks/TSLA.csv\")\n",
    "data.head()\n",
    "data = data.dropna()\n",
    "\n",
    "input_data = data[['Open', 'High', 'Low', 'Close']][:-1]\n",
    "\n",
    "\n",
    "# close price of the next day\n",
    "output_data = data['Close'][1:]\n",
    "# to start from 0 index\n",
    "output_data.index = range(len(output_data))\n",
    "\n",
    "output_data.name = 'Close-next-day'\n",
    "\n",
    "data = pd.concat([input_data, output_data], axis=1)\n",
    "\n",
    "data.head()\n",
    "print(len(data))\n",
    "\n",
    "\n",
    "input = torch.tensor(np.array(data[['Open', 'High', 'Low', 'Close']]), dtype=torch.float32)\n",
    "output = torch.tensor(np.array(data['Close-next-day']), dtype=torch.float32)\n",
    "\n",
    "print(output[0:5])\n",
    "print(input[0:5])\n",
    "torch.cat((torch.tensor([1.0]), output))\n",
    "\n"
   ]
  },
  {
   "cell_type": "markdown",
   "metadata": {},
   "source": [
    "# Example 1"
   ]
  },
  {
   "cell_type": "markdown",
   "metadata": {},
   "source": [
    "## Set up a simple model manully"
   ]
  },
  {
   "cell_type": "code",
   "execution_count": 3,
   "metadata": {
    "collapsed": true
   },
   "outputs": [
    {
     "name": "stdout",
     "output_type": "stream",
     "text": [
      "Parameter containing:\n",
      "tensor([0.5000, 0.5000], requires_grad=True)\n",
      "Parameter containing:\n",
      "tensor([[[ 0.5371,  0.7206, -0.9755, -0.4663, -1.6678],\n",
      "         [ 1.2311,  1.8702, -1.2788,  1.3563,  1.0594]],\n",
      "\n",
      "        [[-1.1267, -0.7439,  0.2039,  0.1396, -0.6601],\n",
      "         [-0.2718, -0.0351,  0.6029,  2.3986,  0.2993]]], requires_grad=True)\n",
      "Parameter containing:\n",
      "tensor([[ 0.1097,  0.5070, -0.7417, -0.3175,  0.3450],\n",
      "        [-0.6920,  0.8701, -1.1825,  0.9215,  0.3023]], requires_grad=True)\n",
      "Parameter containing:\n",
      "tensor([1., 1.], requires_grad=True)\n"
     ]
    }
   ],
   "source": [
    "IOHMM = IOHMM_model(num_states=2, inputs=input[:10], outputs=output[:10], max_iter=1000, tol=1e-6)\n",
    "print(IOHMM.initial_pi)\n",
    "print(IOHMM.transition_matrix)\n",
    "print(IOHMM.emission_matrix)\n",
    "print(IOHMM.sd)"
   ]
  },
  {
   "cell_type": "code",
   "execution_count": 4,
   "metadata": {},
   "outputs": [
    {
     "name": "stdout",
     "output_type": "stream",
     "text": [
      "tensor([[3.7040e-01, 6.2960e-01],\n",
      "        [2.4994e-04, 9.9975e-01],\n",
      "        [1.0559e-04, 9.9989e-01],\n",
      "        [2.7061e-04, 9.9973e-01],\n",
      "        [6.1553e-04, 9.9938e-01],\n",
      "        [1.5879e-03, 9.9841e-01],\n",
      "        [2.3150e-03, 9.9768e-01],\n",
      "        [1.6729e-03, 9.9833e-01],\n",
      "        [1.2480e-03, 9.9875e-01],\n",
      "        [1.1623e-03, 9.9884e-01]])\n"
     ]
    },
    {
     "data": {
      "text/plain": [
       "tensor([1.0000, 1.0000, 1.0000, 1.0000, 1.0000, 1.0000, 1.0000, 1.0000, 1.0000,\n",
       "        1.0000])"
      ]
     },
     "execution_count": 4,
     "metadata": {},
     "output_type": "execute_result"
    }
   ],
   "source": [
    "print(IOHMM._forward())\n",
    "torch.sum(IOHMM._forward(), dim=1)"
   ]
  },
  {
   "cell_type": "code",
   "execution_count": 5,
   "metadata": {},
   "outputs": [
    {
     "name": "stdout",
     "output_type": "stream",
     "text": [
      "tensor([[2.4994e-04, 9.9975e-01],\n",
      "        [1.0559e-04, 9.9989e-01],\n",
      "        [2.7061e-04, 9.9973e-01],\n",
      "        [6.1553e-04, 9.9938e-01],\n",
      "        [1.5879e-03, 9.9841e-01],\n",
      "        [2.3150e-03, 9.9768e-01],\n",
      "        [1.6729e-03, 9.9833e-01],\n",
      "        [1.2480e-03, 9.9875e-01],\n",
      "        [1.1623e-03, 9.9884e-01],\n",
      "        [3.8948e-01, 6.1052e-01]])\n"
     ]
    },
    {
     "data": {
      "text/plain": [
       "tensor([1.0000, 1.0000, 1.0000, 1.0000, 1.0000, 1.0000, 1.0000, 1.0000, 1.0000,\n",
       "        1.0000])"
      ]
     },
     "execution_count": 5,
     "metadata": {},
     "output_type": "execute_result"
    }
   ],
   "source": [
    "print(IOHMM._backward())\n",
    "torch.sum(IOHMM._backward(), dim=1)"
   ]
  },
  {
   "cell_type": "code",
   "execution_count": 6,
   "metadata": {},
   "outputs": [
    {
     "name": "stdout",
     "output_type": "stream",
     "text": [
      "tensor([[1.4706e-04, 9.9985e-01],\n",
      "        [2.6401e-08, 1.0000e+00],\n",
      "        [2.8586e-08, 1.0000e+00],\n",
      "        [1.6672e-07, 1.0000e+00],\n",
      "        [9.7958e-07, 1.0000e+00],\n",
      "        [3.6905e-06, 1.0000e+00],\n",
      "        [3.8884e-06, 1.0000e+00],\n",
      "        [2.0940e-06, 1.0000e+00],\n",
      "        [1.4540e-06, 1.0000e+00],\n",
      "        [7.4176e-04, 9.9926e-01]])\n"
     ]
    },
    {
     "data": {
      "text/plain": [
       "tensor([1., 1., 1., 1., 1., 1., 1., 1., 1., 1.])"
      ]
     },
     "execution_count": 6,
     "metadata": {},
     "output_type": "execute_result"
    }
   ],
   "source": [
    "print(IOHMM._compute_gamma(IOHMM._forward(), IOHMM._backward()))\n",
    "torch.sum(IOHMM._compute_gamma(IOHMM._forward(), IOHMM._backward()), dim=1)"
   ]
  },
  {
   "cell_type": "code",
   "execution_count": 7,
   "metadata": {},
   "outputs": [
    {
     "name": "stdout",
     "output_type": "stream",
     "text": [
      "tensor([[[1.2182e-10, 5.0000e-01],\n",
      "         [1.2182e-10, 5.0000e-01]],\n",
      "\n",
      "        [[7.2070e-09, 5.0000e-01],\n",
      "         [7.2070e-09, 5.0000e-01]],\n",
      "\n",
      "        [[1.6148e-11, 5.0000e-01],\n",
      "         [1.6148e-11, 5.0000e-01]],\n",
      "\n",
      "        [[2.9048e-11, 5.0000e-01],\n",
      "         [2.9048e-11, 5.0000e-01]],\n",
      "\n",
      "        [[4.7948e-10, 5.0000e-01],\n",
      "         [4.7948e-10, 5.0000e-01]],\n",
      "\n",
      "        [[2.3653e-09, 5.0000e-01],\n",
      "         [2.3653e-09, 5.0000e-01]],\n",
      "\n",
      "        [[3.4688e-09, 5.0000e-01],\n",
      "         [3.4688e-09, 5.0000e-01]],\n",
      "\n",
      "        [[3.0316e-09, 5.0000e-01],\n",
      "         [3.0316e-09, 5.0000e-01]],\n",
      "\n",
      "        [[1.9313e-09, 5.0000e-01],\n",
      "         [1.9313e-09, 5.0000e-01]],\n",
      "\n",
      "        [[7.3932e-07, 5.0000e-01],\n",
      "         [7.3932e-07, 5.0000e-01]]])\n"
     ]
    },
    {
     "data": {
      "text/plain": [
       "tensor([1., 1., 1., 1., 1., 1., 1., 1., 1., 1.])"
      ]
     },
     "execution_count": 7,
     "metadata": {},
     "output_type": "execute_result"
    }
   ],
   "source": [
    "print(IOHMM._compute_xi(IOHMM._forward(), IOHMM._backward()))\n",
    "a = torch.sum(IOHMM._compute_xi(IOHMM._forward(), IOHMM._backward()), axis=1)\n",
    "torch.sum(a, axis=1)"
   ]
  },
  {
   "cell_type": "code",
   "execution_count": 8,
   "metadata": {},
   "outputs": [],
   "source": [
    "#IOHMM._baum_welch()"
   ]
  },
  {
   "cell_type": "markdown",
   "metadata": {},
   "source": [
    "## See the training results"
   ]
  },
  {
   "cell_type": "code",
   "execution_count": 9,
   "metadata": {},
   "outputs": [
    {
     "name": "stdout",
     "output_type": "stream",
     "text": [
      "Initial pi\n",
      "Parameter containing:\n",
      "tensor([0.5000, 0.5000], requires_grad=True)\n",
      "Transition matrix\n",
      "Parameter containing:\n",
      "tensor([[[ 0.5371,  0.7206, -0.9755, -0.4663, -1.6678],\n",
      "         [ 1.2311,  1.8702, -1.2788,  1.3563,  1.0594]],\n",
      "\n",
      "        [[-1.1267, -0.7439,  0.2039,  0.1396, -0.6601],\n",
      "         [-0.2718, -0.0351,  0.6029,  2.3986,  0.2993]]], requires_grad=True)\n",
      "Emission matrix\n",
      "Parameter containing:\n",
      "tensor([[ 0.1097,  0.5070, -0.7417, -0.3175,  0.3450],\n",
      "        [-0.6920,  0.8701, -1.1825,  0.9215,  0.3023]], requires_grad=True)\n",
      "Sd\n",
      "Parameter containing:\n",
      "tensor([1., 1.], requires_grad=True)\n"
     ]
    }
   ],
   "source": [
    "print(\"Initial pi\")\n",
    "print(IOHMM.initial_pi) # to normalize\n",
    "print(\"Transition matrix\")\n",
    "print(IOHMM.transition_matrix)\n",
    "print(\"Emission matrix\")\n",
    "print(IOHMM.emission_matrix)\n",
    "print(\"Sd\")\n",
    "print(IOHMM.sd)"
   ]
  },
  {
   "cell_type": "markdown",
   "metadata": {},
   "source": [
    "## Viterbi"
   ]
  },
  {
   "cell_type": "code",
   "execution_count": 10,
   "metadata": {},
   "outputs": [
    {
     "data": {
      "text/plain": [
       "tensor([1, 1, 1, 1, 1, 1, 1, 1, 1, 0])"
      ]
     },
     "execution_count": 10,
     "metadata": {},
     "output_type": "execute_result"
    }
   ],
   "source": [
    "#call the viterbi algorithm\n",
    "IOHMM.viterbi()"
   ]
  },
  {
   "cell_type": "markdown",
   "metadata": {},
   "source": [
    "# Predictions"
   ]
  },
  {
   "cell_type": "code",
   "execution_count": 11,
   "metadata": {},
   "outputs": [
    {
     "name": "stdout",
     "output_type": "stream",
     "text": [
      "torch.Size([2, 5])\n",
      "torch.Size([4])\n",
      "(2,)\n"
     ]
    },
    {
     "ename": "RuntimeError",
     "evalue": "The size of tensor a (5) must match the size of tensor b (4) at non-singleton dimension 1",
     "output_type": "error",
     "traceback": [
      "\u001b[0;31m---------------------------------------------------------------------------\u001b[0m",
      "\u001b[0;31mRuntimeError\u001b[0m                              Traceback (most recent call last)",
      "Cell \u001b[0;32mIn[11], line 1\u001b[0m\n\u001b[0;32m----> 1\u001b[0m emission_pred \u001b[38;5;241m=\u001b[39m IOHMM\u001b[38;5;241m.\u001b[39mpredict(\u001b[38;5;28minput\u001b[39m[\u001b[38;5;241m2\u001b[39m])\n\u001b[1;32m      2\u001b[0m \u001b[38;5;28mprint\u001b[39m(emission_pred)\n",
      "File \u001b[0;32m~/uni/DSAI/PML/project/IOHMM_self/IOHMM/IOHMM.py:261\u001b[0m, in \u001b[0;36mIOHMM_model.predict\u001b[0;34m(self, input)\u001b[0m\n\u001b[1;32m    259\u001b[0m \u001b[38;5;28mprint\u001b[39m(\u001b[38;5;28minput\u001b[39m\u001b[38;5;241m.\u001b[39mshape)\n\u001b[1;32m    260\u001b[0m \u001b[38;5;28mprint\u001b[39m(w\u001b[38;5;241m.\u001b[39mshape)  \n\u001b[0;32m--> 261\u001b[0m prediction\u001b[38;5;241m=\u001b[39m(\u001b[38;5;28mself\u001b[39m\u001b[38;5;241m.\u001b[39memission_matrix\u001b[38;5;241m*\u001b[39m\u001b[38;5;28minput\u001b[39m)\u001b[38;5;241m.\u001b[39mdot(w)\n\u001b[1;32m    262\u001b[0m \u001b[38;5;28;01mreturn\u001b[39;00m prediction\n",
      "\u001b[0;31mRuntimeError\u001b[0m: The size of tensor a (5) must match the size of tensor b (4) at non-singleton dimension 1"
     ]
    }
   ],
   "source": [
    "emission_pred = IOHMM.predict(input[2])\n",
    "print(emission_pred)\n"
   ]
  }
 ],
 "metadata": {
  "kernelspec": {
   "display_name": "Python 3",
   "language": "python",
   "name": "python3"
  },
  "language_info": {
   "codemirror_mode": {
    "name": "ipython",
    "version": 3
   },
   "file_extension": ".py",
   "mimetype": "text/x-python",
   "name": "python",
   "nbconvert_exporter": "python",
   "pygments_lexer": "ipython3",
   "version": "3.12.1"
  }
 },
 "nbformat": 4,
 "nbformat_minor": 1
}
