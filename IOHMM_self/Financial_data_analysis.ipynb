{
 "cells": [
  {
   "cell_type": "markdown",
   "metadata": {},
   "source": [
    "## Implementation"
   ]
  },
  {
   "cell_type": "code",
   "execution_count": 1,
   "metadata": {},
   "outputs": [],
   "source": [
    "from IOHMM import IOHMM_model\n",
    "import numpy as np, pandas as pd\n",
    "import torch\n",
    "import matplotlib.pyplot as plt"
   ]
  },
  {
   "cell_type": "code",
   "execution_count": 2,
   "metadata": {},
   "outputs": [],
   "source": [
    "data = pd.read_csv(\"data/Financial-Data/stocks/TSLA.csv\")\n",
    "data.head()\n",
    "data = data.dropna()\n",
    "\n",
    "input = torch.tensor(np.array(data[['Open']]), dtype=torch.float32)\n",
    "output = torch.tensor(np.array(data['Close']), dtype=torch.float32)"
   ]
  },
  {
   "cell_type": "markdown",
   "metadata": {},
   "source": [
    "# Example 1"
   ]
  },
  {
   "cell_type": "markdown",
   "metadata": {},
   "source": [
    "## Set up a simple model manully"
   ]
  },
  {
   "cell_type": "code",
   "execution_count": 3,
   "metadata": {},
   "outputs": [],
   "source": [
    "xx=np.arange(0,100,0.1)\n",
    "y= np.sin(xx)\n",
    "inputs=torch.tensor(xx, dtype=torch.float32)\n",
    "outputs=torch.tensor(y, dtype=torch.float32)\n",
    "inputs=inputs.reshape(-1,1)"
   ]
  },
  {
   "cell_type": "code",
   "execution_count": 4,
   "metadata": {},
   "outputs": [
    {
     "name": "stdout",
     "output_type": "stream",
     "text": [
      "initial pi Parameter containing:\n",
      "tensor([-0.6931, -0.6931], requires_grad=True)\n",
      "Parameter containing:\n",
      "tensor([[[1., 0.],\n",
      "         [1., 0.]],\n",
      "\n",
      "        [[1., 0.],\n",
      "         [1., 0.]]], requires_grad=True)\n",
      "Parameter containing:\n",
      "tensor([[-0.1000,  0.1000],\n",
      "        [ 0.1000,  0.1000]], requires_grad=True)\n",
      "Parameter containing:\n",
      "tensor([1.6094, 1.6094], requires_grad=True)\n"
     ]
    }
   ],
   "source": [
    "transition_matrix = torch.tensor([[[1.,0.],[1.,0.]],[[1.,0.],[1.,0.]]])\n",
    "emission_matrix = torch.tensor([[-0.1,0.1],[0.1,0.1]])\n",
    "\n",
    "IOHMM = IOHMM_model(num_states=2, inputs=input[:10], outputs=output[:10], max_iter=100, tol=1e-4, transition_matrix=transition_matrix, emission_matrix=emission_matrix)\n",
    "print(f\"initial pi {IOHMM.initial_pi}\")\n",
    "print(IOHMM.transition_matrix)\n",
    "print(IOHMM.emission_matrix)\n",
    "print(IOHMM.log_sd)"
   ]
  },
  {
   "cell_type": "code",
   "execution_count": 5,
   "metadata": {},
   "outputs": [
    {
     "name": "stdout",
     "output_type": "stream",
     "text": [
      "tensor([[-0.6990, -0.6873],\n",
      "        [-0.6988, -0.6875],\n",
      "        [-0.6983, -0.6880],\n",
      "        [-0.6977, -0.6887],\n",
      "        [-0.6969, -0.6894],\n",
      "        [-0.6969, -0.6894],\n",
      "        [-0.6974, -0.6889],\n",
      "        [-0.6973, -0.6890],\n",
      "        [-0.6972, -0.6891],\n",
      "        [-0.6975, -0.6888]])\n"
     ]
    }
   ],
   "source": [
    "print(IOHMM._forward())\n",
    "# torch.sum(IOHMM._forward(), dim=1)"
   ]
  },
  {
   "cell_type": "code",
   "execution_count": 6,
   "metadata": {},
   "outputs": [
    {
     "name": "stdout",
     "output_type": "stream",
     "text": [
      "tensor([[-0.6990, -0.6873],\n",
      "        [-0.6988, -0.6875],\n",
      "        [-0.6983, -0.6880],\n",
      "        [-0.6977, -0.6887],\n",
      "        [-0.6969, -0.6894],\n",
      "        [-0.6969, -0.6894],\n",
      "        [-0.6974, -0.6889],\n",
      "        [-0.6973, -0.6890],\n",
      "        [-0.6972, -0.6891],\n",
      "        [-0.6975, -0.6888]])\n"
     ]
    }
   ],
   "source": [
    "print(IOHMM._backward())\n",
    "# torch.sum(IOHMM._backward(), dim=1)"
   ]
  },
  {
   "cell_type": "code",
   "execution_count": 7,
   "metadata": {},
   "outputs": [
    {
     "name": "stdout",
     "output_type": "stream",
     "text": [
      "tensor([[-0.7049, -0.6815],\n",
      "        [-0.7045, -0.6819],\n",
      "        [-0.7036, -0.6828],\n",
      "        [-0.7022, -0.6842],\n",
      "        [-0.7007, -0.6857],\n",
      "        [-0.7007, -0.6856],\n",
      "        [-0.7016, -0.6847],\n",
      "        [-0.7015, -0.6848],\n",
      "        [-0.7013, -0.6850],\n",
      "        [-0.7019, -0.6844]])\n"
     ]
    }
   ],
   "source": [
    "print(IOHMM._compute_gamma(IOHMM._forward(), IOHMM._backward()))\n",
    "# torch.sum(IOHMM._compute_gamma(IOHMM._forward(), IOHMM._backward()), dim=1)"
   ]
  },
  {
   "cell_type": "code",
   "execution_count": 8,
   "metadata": {},
   "outputs": [
    {
     "name": "stdout",
     "output_type": "stream",
     "text": [
      "tensor([[[-0.6990, -0.6990],\n",
      "         [-0.6873, -0.6873]],\n",
      "\n",
      "        [[-0.6988, -0.6988],\n",
      "         [-0.6875, -0.6875]],\n",
      "\n",
      "        [[-0.6983, -0.6983],\n",
      "         [-0.6880, -0.6880]],\n",
      "\n",
      "        [[-0.6977, -0.6977],\n",
      "         [-0.6887, -0.6887]],\n",
      "\n",
      "        [[-0.6969, -0.6969],\n",
      "         [-0.6894, -0.6894]],\n",
      "\n",
      "        [[-0.6969, -0.6969],\n",
      "         [-0.6894, -0.6894]],\n",
      "\n",
      "        [[-0.6974, -0.6974],\n",
      "         [-0.6889, -0.6889]],\n",
      "\n",
      "        [[-0.6973, -0.6973],\n",
      "         [-0.6890, -0.6890]],\n",
      "\n",
      "        [[-0.6972, -0.6972],\n",
      "         [-0.6891, -0.6891]],\n",
      "\n",
      "        [[-0.6975, -0.6975],\n",
      "         [-0.6888, -0.6888]]])\n"
     ]
    }
   ],
   "source": [
    "print(IOHMM._compute_xi(IOHMM._forward(), IOHMM._backward()))\n",
    "# torch.sum(IOHMM._compute_xi(IOHMM._forward(), IOHMM._backward()), axis=1)"
   ]
  },
  {
   "cell_type": "code",
   "execution_count": 9,
   "metadata": {},
   "outputs": [
    {
     "name": "stdout",
     "output_type": "stream",
     "text": [
      "Iteration 1, likelihood: -inf\n",
      "Iteration 2, likelihood: -35.67226791381836\n",
      "Iteration 3, likelihood: -31.692222595214844\n",
      "Iteration 4, likelihood: -27.602073669433594\n",
      "Iteration 5, likelihood: -22.59109878540039\n",
      "Iteration 6, likelihood: -17.052021026611328\n",
      "Iteration 7, likelihood: -109.5283203125\n",
      "Iteration 8, likelihood: -11.663751602172852\n",
      "Iteration 9, likelihood: -74.66219329833984\n",
      "Iteration 10, likelihood: -121.4227066040039\n",
      "Iteration 11, likelihood: -87.98294067382812\n",
      "Iteration 12, likelihood: -78.2755355834961\n",
      "Iteration 13, likelihood: -70.74098205566406\n",
      "Iteration 14, likelihood: -69.60716247558594\n",
      "Iteration 15, likelihood: -69.6021499633789\n",
      "Iteration 16, likelihood: -69.327392578125\n",
      "Iteration 17, likelihood: -69.2852783203125\n",
      "Iteration 18, likelihood: -69.07714080810547\n",
      "Iteration 19, likelihood: -69.01698303222656\n",
      "Iteration 20, likelihood: -68.83958435058594\n",
      "Iteration 21, likelihood: -68.76874542236328\n",
      "Iteration 22, likelihood: -68.60884094238281\n",
      "Iteration 23, likelihood: -68.53097534179688\n",
      "Iteration 24, likelihood: -68.3822250366211\n",
      "Iteration 25, likelihood: -68.2994155883789\n",
      "Iteration 26, likelihood: -68.1583023071289\n",
      "Iteration 27, likelihood: -68.07185363769531\n",
      "Iteration 28, likelihood: -67.93633270263672\n",
      "Iteration 29, likelihood: -67.84725189208984\n",
      "Iteration 30, likelihood: -67.7164306640625\n",
      "Iteration 31, likelihood: -67.62689208984375\n",
      "Iteration 32, likelihood: -67.50479888916016\n",
      "Iteration 33, likelihood: -67.43087768554688\n",
      "Iteration 34, likelihood: -67.36608123779297\n",
      "Iteration 35, likelihood: -67.46073150634766\n",
      "Iteration 36, likelihood: -67.9052505493164\n",
      "Iteration 37, likelihood: -69.34111022949219\n",
      "Iteration 38, likelihood: -72.34016418457031\n",
      "Iteration 39, likelihood: -75.7030258178711\n",
      "Iteration 40, likelihood: -76.85607147216797\n",
      "Iteration 41, likelihood: -76.81309509277344\n",
      "Iteration 42, likelihood: -76.69203186035156\n",
      "Iteration 43, likelihood: -76.59375\n",
      "Iteration 44, likelihood: -76.47513580322266\n",
      "Iteration 45, likelihood: -76.37612915039062\n",
      "Iteration 46, likelihood: -76.2583999633789\n",
      "Iteration 47, likelihood: -76.1587905883789\n",
      "Iteration 48, likelihood: -76.04181671142578\n",
      "Iteration 49, likelihood: -75.94169616699219\n",
      "Iteration 50, likelihood: -75.82538604736328\n",
      "Iteration 51, likelihood: -75.72477722167969\n",
      "Iteration 52, likelihood: -75.60906219482422\n",
      "Iteration 53, likelihood: -75.5080337524414\n",
      "Iteration 54, likelihood: -75.392822265625\n",
      "Iteration 55, likelihood: -75.29141998291016\n",
      "Iteration 56, likelihood: -75.17667388916016\n",
      "Iteration 57, likelihood: -75.07491302490234\n",
      "Iteration 58, likelihood: -74.9605941772461\n",
      "Iteration 59, likelihood: -74.8584976196289\n",
      "Iteration 60, likelihood: -74.74454498291016\n",
      "Iteration 61, likelihood: -74.64216613769531\n",
      "Iteration 62, likelihood: -74.52854919433594\n",
      "Iteration 63, likelihood: -74.4259033203125\n",
      "Iteration 64, likelihood: -74.31258392333984\n",
      "Iteration 65, likelihood: -74.20967864990234\n",
      "Iteration 66, likelihood: -74.09662628173828\n",
      "Iteration 67, likelihood: -73.9935073852539\n",
      "Iteration 68, likelihood: -73.88069915771484\n",
      "Iteration 69, likelihood: -73.77737426757812\n",
      "Iteration 70, likelihood: -73.6647720336914\n",
      "Iteration 71, likelihood: -73.56123352050781\n",
      "Iteration 72, likelihood: -73.4488525390625\n",
      "Iteration 73, likelihood: -73.34513854980469\n",
      "Iteration 74, likelihood: -73.2329330444336\n",
      "Iteration 75, likelihood: -73.12905883789062\n",
      "Iteration 76, likelihood: -73.01700592041016\n",
      "Iteration 77, likelihood: -72.91297149658203\n",
      "Iteration 78, likelihood: -72.80108642578125\n",
      "Iteration 79, likelihood: -72.69688415527344\n",
      "Iteration 80, likelihood: -72.58514404296875\n",
      "Iteration 81, likelihood: -72.48079681396484\n",
      "Iteration 82, likelihood: -72.36919403076172\n",
      "Iteration 83, likelihood: -72.26470184326172\n",
      "Iteration 84, likelihood: -72.15322875976562\n",
      "Iteration 85, likelihood: -72.0486068725586\n",
      "Iteration 86, likelihood: -71.9372329711914\n",
      "Iteration 87, likelihood: -71.83248138427734\n",
      "Iteration 88, likelihood: -71.72122192382812\n",
      "Iteration 89, likelihood: -71.6163558959961\n",
      "Iteration 90, likelihood: -71.50518798828125\n",
      "Iteration 91, likelihood: -71.40020751953125\n",
      "Iteration 92, likelihood: -71.28912353515625\n",
      "Iteration 93, likelihood: -71.18402862548828\n",
      "Iteration 94, likelihood: -71.07303619384766\n",
      "Iteration 95, likelihood: -70.96782684326172\n",
      "Iteration 96, likelihood: -70.8569107055664\n",
      "Iteration 97, likelihood: -70.7516098022461\n",
      "Iteration 98, likelihood: -70.64076232910156\n",
      "Iteration 99, likelihood: -70.53535461425781\n",
      "Iteration 100, likelihood: -70.42457580566406\n"
     ]
    }
   ],
   "source": [
    "IOHMM._baum_welch()"
   ]
  },
  {
   "cell_type": "code",
   "execution_count": 10,
   "metadata": {},
   "outputs": [
    {
     "data": {
      "text/plain": [
       "[<matplotlib.lines.Line2D at 0x7f6dd4664430>]"
      ]
     },
     "execution_count": 10,
     "metadata": {},
     "output_type": "execute_result"
    },
    {
     "data": {
      "image/png": "[encoded data removed]",
      "text/plain": [
       "<Figure size 640x480 with 1 Axes>"
      ]
     },
     "metadata": {},
     "output_type": "display_data"
    }
   ],
   "source": [
    "plt.plot(IOHMM.history)"
   ]
  },
  {
   "cell_type": "markdown",
   "metadata": {},
   "source": [
    "## See the training results"
   ]
  },
  {
   "cell_type": "code",
   "execution_count": 11,
   "metadata": {},
   "outputs": [
    {
     "name": "stdout",
     "output_type": "stream",
     "text": [
      "Initial pi\n",
      "Parameter containing:\n",
      "tensor([ 8.8479, -0.2342], requires_grad=True)\n",
      "Transition matrix\n",
      "Parameter containing:\n",
      "tensor([[[ 6.0175e-01, -5.3090e-01],\n",
      "         [ 1.3983e+00,  5.3090e-01]],\n",
      "\n",
      "        [[ 1.0001e+00,  1.4070e-04],\n",
      "         [ 9.9987e-01, -1.4069e-04]]], requires_grad=True)\n",
      "Emission matrix\n",
      "Parameter containing:\n",
      "tensor([[21.4870, 29.2242],\n",
      "        [-0.6904, -0.8381]], requires_grad=True)\n",
      "Sd\n",
      "Parameter containing:\n",
      "tensor([ 4.1273, -0.8605], requires_grad=True)\n"
     ]
    }
   ],
   "source": [
    "print(\"Initial pi\")\n",
    "print(IOHMM.initial_pi) # to normalize\n",
    "print(\"Transition matrix\")\n",
    "print(IOHMM.transition_matrix)\n",
    "print(\"Emission matrix\")\n",
    "print(IOHMM.emission_matrix)\n",
    "print(\"Sd\")\n",
    "print(IOHMM.log_sd)"
   ]
  },
  {
   "cell_type": "markdown",
   "metadata": {},
   "source": [
    "## Viterbi"
   ]
  },
  {
   "cell_type": "code",
   "execution_count": 12,
   "metadata": {},
   "outputs": [
    {
     "data": {
      "text/plain": [
       "[0, 0, 0, 0, 0, 0, 0, 0, 0, 0]"
      ]
     },
     "execution_count": 12,
     "metadata": {},
     "output_type": "execute_result"
    }
   ],
   "source": [
    "#call the viterbi algorithm\n",
    "IOHMM.viterbi()"
   ]
  },
  {
   "cell_type": "markdown",
   "metadata": {},
   "source": [
    "## Predict"
   ]
  },
  {
   "cell_type": "code",
   "execution_count": 13,
   "metadata": {},
   "outputs": [
    {
     "data": {
      "text/plain": [
       "tensor(5.4362, grad_fn=<SumBackward0>)"
      ]
     },
     "execution_count": 13,
     "metadata": {},
     "output_type": "execute_result"
    }
   ],
   "source": [
    "# predict the next output given the next input\n",
    "IOHMM.predict(input[11])\n"
   ]
  },
  {
   "cell_type": "code",
   "execution_count": 14,
   "metadata": {},
   "outputs": [
    {
     "data": {
      "text/plain": [
       "tensor(1.3260)"
      ]
     },
     "execution_count": 14,
     "metadata": {},
     "output_type": "execute_result"
    }
   ],
   "source": [
    "output[11]"
   ]
  }
 ],
 "metadata": {
  "kernelspec": {
   "display_name": "Python 3 (ipykernel)",
   "language": "python",
   "name": "python3"
  },
  "language_info": {
   "codemirror_mode": {
    "name": "ipython",
    "version": 3
   },
   "file_extension": ".py",
   "mimetype": "text/x-python",
   "name": "python",
   "nbconvert_exporter": "python",
   "pygments_lexer": "ipython3",
   "version": "3.10.12"
  }
 },
 "nbformat": 4,
 "nbformat_minor": 4
}
