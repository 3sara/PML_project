{
 "cells": [
  {
   "cell_type": "markdown",
   "metadata": {},
   "source": [
    "## Implementation"
   ]
  },
  {
   "cell_type": "code",
   "execution_count": 1,
   "metadata": {},
   "outputs": [],
   "source": [
    "from IOHMM import IOHMM_model\n",
    "import numpy as np, pandas as pd\n",
    "import torch\n",
    "import matplotlib.pyplot as plt"
   ]
  },
  {
   "cell_type": "code",
   "execution_count": 2,
   "metadata": {},
   "outputs": [],
   "source": [
    "data = pd.read_csv(\"data/Financial-Data/stocks/TSLA.csv\")\n",
    "data.head()\n",
    "data = data.dropna()\n",
    "\n",
    "input = torch.tensor(np.array(data[['Open']]), dtype=torch.float32)\n",
    "output = torch.tensor(np.array(data['Close']), dtype=torch.float32)"
   ]
  },
  {
   "cell_type": "markdown",
   "metadata": {},
   "source": [
    "# Example 1"
   ]
  },
  {
   "cell_type": "markdown",
   "metadata": {},
   "source": [
    "## Set up a simple model manully"
   ]
  },
  {
   "cell_type": "code",
   "execution_count": 3,
   "metadata": {},
   "outputs": [],
   "source": [
    "xx=np.arange(0,100,0.1)\n",
    "y= np.sin(xx)\n",
    "inputs=torch.tensor(xx, dtype=torch.float32)\n",
    "outputs=torch.tensor(y, dtype=torch.float32)\n",
    "inputs=inputs.reshape(-1,1)"
   ]
  },
  {
   "cell_type": "code",
   "execution_count": 4,
   "metadata": {},
   "outputs": [
    {
     "name": "stdout",
     "output_type": "stream",
     "text": [
      "initial pi Parameter containing:\n",
      "tensor([-0.6931, -0.6931], requires_grad=True)\n",
      "Parameter containing:\n",
      "tensor([[[1., 0.],\n",
      "         [1., 0.]],\n",
      "\n",
      "        [[1., 0.],\n",
      "         [1., 0.]]], requires_grad=True)\n",
      "Parameter containing:\n",
      "tensor([[-0.1000,  0.1000],\n",
      "        [ 0.1000,  0.1000]], requires_grad=True)\n",
      "Parameter containing:\n",
      "tensor([1.6094, 1.6094], requires_grad=True)\n"
     ]
    }
   ],
   "source": [
    "transition_matrix = torch.tensor([[[1.,0.],[1.,0.]],[[1.,0.],[1.,0.]]])\n",
    "emission_matrix = torch.tensor([[-0.1,0.1],[0.1,0.1]])\n",
    "\n",
    "IOHMM = IOHMM_model(num_states=2, inputs=input[:10], outputs=output[:10], max_iter=100, tol=1e-4, transition_matrix=transition_matrix, emission_matrix=emission_matrix)\n",
    "print(f\"initial pi {IOHMM.initial_pi}\")\n",
    "print(IOHMM.transition_matrix)\n",
    "print(IOHMM.emission_matrix)\n",
    "print(IOHMM.lsd)"
   ]
  },
  {
   "cell_type": "code",
   "execution_count": 5,
   "metadata": {},
   "outputs": [
    {
     "name": "stdout",
     "output_type": "stream",
     "text": [
      "tensor([[-0.6990, -0.6873],\n",
      "        [-0.6988, -0.6875],\n",
      "        [-0.6983, -0.6880],\n",
      "        [-0.6977, -0.6887],\n",
      "        [-0.6969, -0.6894],\n",
      "        [-0.6969, -0.6894],\n",
      "        [-0.6974, -0.6889],\n",
      "        [-0.6973, -0.6890],\n",
      "        [-0.6972, -0.6891],\n",
      "        [-0.6975, -0.6888]])\n"
     ]
    }
   ],
   "source": [
    "print(IOHMM._forward())\n",
    "# torch.sum(IOHMM._forward(), dim=1)"
   ]
  },
  {
   "cell_type": "code",
   "execution_count": 6,
   "metadata": {},
   "outputs": [
    {
     "name": "stdout",
     "output_type": "stream",
     "text": [
      "tensor([[-0.6990, -0.6873],\n",
      "        [-0.6988, -0.6875],\n",
      "        [-0.6983, -0.6880],\n",
      "        [-0.6977, -0.6887],\n",
      "        [-0.6969, -0.6894],\n",
      "        [-0.6969, -0.6894],\n",
      "        [-0.6974, -0.6889],\n",
      "        [-0.6973, -0.6890],\n",
      "        [-0.6972, -0.6891],\n",
      "        [-0.6975, -0.6888]])\n"
     ]
    }
   ],
   "source": [
    "print(IOHMM._backward())\n",
    "# torch.sum(IOHMM._backward(), dim=1)"
   ]
  },
  {
   "cell_type": "code",
   "execution_count": 7,
   "metadata": {},
   "outputs": [
    {
     "name": "stdout",
     "output_type": "stream",
     "text": [
      "tensor([[-0.7049, -0.6815],\n",
      "        [-0.7045, -0.6819],\n",
      "        [-0.7036, -0.6828],\n",
      "        [-0.7022, -0.6842],\n",
      "        [-0.7007, -0.6857],\n",
      "        [-0.7007, -0.6856],\n",
      "        [-0.7016, -0.6847],\n",
      "        [-0.7015, -0.6848],\n",
      "        [-0.7013, -0.6850],\n",
      "        [-0.7019, -0.6844]])\n"
     ]
    }
   ],
   "source": [
    "print(IOHMM._compute_gamma(IOHMM._forward(), IOHMM._backward()))\n",
    "# torch.sum(IOHMM._compute_gamma(IOHMM._forward(), IOHMM._backward()), dim=1)"
   ]
  },
  {
   "cell_type": "code",
   "execution_count": 8,
   "metadata": {},
   "outputs": [
    {
     "name": "stdout",
     "output_type": "stream",
     "text": [
      "tensor([[[-0.6990, -0.6990],\n",
      "         [-0.6873, -0.6873]],\n",
      "\n",
      "        [[-0.6988, -0.6988],\n",
      "         [-0.6875, -0.6875]],\n",
      "\n",
      "        [[-0.6983, -0.6983],\n",
      "         [-0.6880, -0.6880]],\n",
      "\n",
      "        [[-0.6977, -0.6977],\n",
      "         [-0.6887, -0.6887]],\n",
      "\n",
      "        [[-0.6969, -0.6969],\n",
      "         [-0.6894, -0.6894]],\n",
      "\n",
      "        [[-0.6969, -0.6969],\n",
      "         [-0.6894, -0.6894]],\n",
      "\n",
      "        [[-0.6974, -0.6974],\n",
      "         [-0.6889, -0.6889]],\n",
      "\n",
      "        [[-0.6973, -0.6973],\n",
      "         [-0.6890, -0.6890]],\n",
      "\n",
      "        [[-0.6972, -0.6972],\n",
      "         [-0.6891, -0.6891]],\n",
      "\n",
      "        [[-0.6975, -0.6975],\n",
      "         [-0.6888, -0.6888]]])\n"
     ]
    }
   ],
   "source": [
    "print(IOHMM._compute_xi(IOHMM._forward(), IOHMM._backward()))\n",
    "# torch.sum(IOHMM._compute_xi(IOHMM._forward(), IOHMM._backward()), axis=1)"
   ]
  },
  {
   "cell_type": "code",
   "execution_count": 9,
   "metadata": {},
   "outputs": [
    {
     "name": "stdout",
     "output_type": "stream",
     "text": [
      "Iteration 1, likelihood: -inf\n",
      "Iteration 2, likelihood: -13.704030990600586\n",
      "Iteration 3, likelihood: -13.625014305114746\n",
      "Iteration 4, likelihood: -13.544073104858398\n",
      "Iteration 5, likelihood: -13.461036682128906\n",
      "Iteration 6, likelihood: -13.375700950622559\n",
      "Iteration 7, likelihood: -13.287840843200684\n",
      "Iteration 8, likelihood: -13.197210311889648\n",
      "Iteration 9, likelihood: -13.103513717651367\n",
      "Iteration 10, likelihood: -13.006426811218262\n",
      "Iteration 11, likelihood: -12.905566215515137\n",
      "Iteration 12, likelihood: -12.800485610961914\n",
      "Iteration 13, likelihood: -12.690780639648438\n",
      "Iteration 14, likelihood: -12.57702350616455\n",
      "Iteration 15, likelihood: -12.47575569152832\n",
      "Iteration 16, likelihood: -12.59733772277832\n",
      "Iteration 17, likelihood: -15.632621765136719\n",
      "Iteration 18, likelihood: -39.98011016845703\n",
      "Iteration 19, likelihood: -56.35274124145508\n",
      "Iteration 20, likelihood: -2.9569718837738037\n",
      "Iteration 21, likelihood: -19.013975143432617\n",
      "Iteration 22, likelihood: -20.35491943359375\n",
      "Iteration 23, likelihood: -6.72119140625\n",
      "Iteration 24, likelihood: -9.062095642089844\n",
      "Iteration 25, likelihood: -7.849005699157715\n",
      "Iteration 26, likelihood: -9.077518463134766\n",
      "Iteration 27, likelihood: -14.014656066894531\n",
      "Iteration 28, likelihood: -10.373552322387695\n",
      "Iteration 29, likelihood: -8.842277526855469\n",
      "Iteration 30, likelihood: -6.75079870223999\n",
      "Iteration 31, likelihood: -2.333993434906006\n",
      "Iteration 32, likelihood: -0.16834306716918945\n",
      "Iteration 33, likelihood: -3.5181221961975098\n",
      "Iteration 34, likelihood: -8.915521621704102\n",
      "Iteration 35, likelihood: -12.617366790771484\n",
      "Iteration 36, likelihood: -12.989526748657227\n",
      "Iteration 37, likelihood: -12.88940715789795\n",
      "Iteration 38, likelihood: -12.789274215698242\n",
      "Iteration 39, likelihood: -12.689132690429688\n",
      "Iteration 40, likelihood: -12.588971138000488\n",
      "Iteration 41, likelihood: -12.488794326782227\n",
      "Iteration 42, likelihood: -12.388603210449219\n",
      "Iteration 43, likelihood: -12.288383483886719\n",
      "Iteration 44, likelihood: -12.188140869140625\n",
      "Iteration 45, likelihood: -12.087867736816406\n",
      "Iteration 46, likelihood: -11.987556457519531\n",
      "Iteration 47, likelihood: -11.88720417022705\n",
      "Iteration 48, likelihood: -11.786794662475586\n",
      "Iteration 49, likelihood: -11.686324119567871\n",
      "Iteration 50, likelihood: -11.585770606994629\n",
      "Iteration 51, likelihood: -11.485116004943848\n",
      "Iteration 52, likelihood: -11.384332656860352\n",
      "Iteration 53, likelihood: -11.283384323120117\n",
      "Iteration 54, likelihood: -11.182212829589844\n",
      "Iteration 55, likelihood: -11.080745697021484\n",
      "Iteration 56, likelihood: -10.978869438171387\n",
      "Iteration 57, likelihood: -10.876413345336914\n",
      "Iteration 58, likelihood: -10.773098945617676\n",
      "Iteration 59, likelihood: -10.668478965759277\n",
      "Iteration 60, likelihood: -10.561759948730469\n",
      "Iteration 61, likelihood: -10.4514799118042\n",
      "Iteration 62, likelihood: -10.334718704223633\n",
      "Iteration 63, likelihood: -10.205170631408691\n",
      "Iteration 64, likelihood: -10.047966957092285\n",
      "Iteration 65, likelihood: -9.825672149658203\n",
      "Iteration 66, likelihood: -9.448256492614746\n",
      "Iteration 67, likelihood: -8.789711952209473\n",
      "Iteration 68, likelihood: -8.03196907043457\n",
      "Iteration 69, likelihood: -7.626927375793457\n",
      "Iteration 70, likelihood: -7.447888374328613\n",
      "Iteration 71, likelihood: -7.323855400085449\n",
      "Iteration 72, likelihood: -7.213037490844727\n",
      "Iteration 73, likelihood: -7.105734825134277\n",
      "Iteration 74, likelihood: -6.999317646026611\n",
      "Iteration 75, likelihood: -6.892985820770264\n",
      "Iteration 76, likelihood: -6.786463260650635\n",
      "Iteration 77, likelihood: -6.6796393394470215\n",
      "Iteration 78, likelihood: -6.572455883026123\n",
      "Iteration 79, likelihood: -6.464868545532227\n",
      "Iteration 80, likelihood: -6.356834888458252\n",
      "Iteration 81, likelihood: -6.24830961227417\n",
      "Iteration 82, likelihood: -6.1392388343811035\n",
      "Iteration 83, likelihood: -6.029566287994385\n",
      "Iteration 84, likelihood: -5.919220924377441\n",
      "Iteration 85, likelihood: -5.808123588562012\n",
      "Iteration 86, likelihood: -5.696184158325195\n",
      "Iteration 87, likelihood: -5.583292007446289\n",
      "Iteration 88, likelihood: -5.4693169593811035\n",
      "Iteration 89, likelihood: -5.354100227355957\n",
      "Iteration 90, likelihood: -5.237456798553467\n",
      "Iteration 91, likelihood: -5.119152545928955\n",
      "Iteration 92, likelihood: -4.998905181884766\n",
      "Iteration 93, likelihood: -4.876351833343506\n",
      "Iteration 94, likelihood: -4.751039028167725\n",
      "Iteration 95, likelihood: -4.622371196746826\n",
      "Iteration 96, likelihood: -4.489571571350098\n",
      "Iteration 97, likelihood: -4.351578712463379\n",
      "Iteration 98, likelihood: -4.206936359405518\n",
      "Iteration 99, likelihood: -4.053548812866211\n",
      "Iteration 100, likelihood: -3.8883144855499268\n"
     ]
    }
   ],
   "source": [
    "IOHMM._baum_welch()"
   ]
  },
  {
   "cell_type": "code",
   "execution_count": 10,
   "metadata": {},
   "outputs": [
    {
     "data": {
      "text/plain": [
       "[<matplotlib.lines.Line2D at 0x7f96c5abc580>]"
      ]
     },
     "execution_count": 10,
     "metadata": {},
     "output_type": "execute_result"
    },
    {
     "data": {
      "image/png": "[encoded data removed]",
      "text/plain": [
       "<Figure size 640x480 with 1 Axes>"
      ]
     },
     "metadata": {},
     "output_type": "display_data"
    }
   ],
   "source": [
    "plt.plot(IOHMM.history)"
   ]
  },
  {
   "cell_type": "markdown",
   "metadata": {},
   "source": [
    "## See the training results"
   ]
  },
  {
   "cell_type": "code",
   "execution_count": 11,
   "metadata": {},
   "outputs": [
    {
     "name": "stdout",
     "output_type": "stream",
     "text": [
      "Initial pi\n",
      "Parameter containing:\n",
      "tensor([7.3715, 1.2422], requires_grad=True)\n",
      "Transition matrix\n",
      "Parameter containing:\n",
      "tensor([[[-0.4728, -0.6457],\n",
      "         [-0.4057, -0.7092]],\n",
      "\n",
      "        [[-0.4517, -0.4766],\n",
      "         [-0.3075, -0.6029]]], requires_grad=True)\n",
      "Emission matrix\n",
      "Parameter containing:\n",
      "tensor([[-1.1434, -2.7427],\n",
      "        [-4.3170, -5.2228]], requires_grad=True)\n",
      "Sd\n",
      "Parameter containing:\n",
      "tensor([-0.1111, -1.2753], requires_grad=True)\n"
     ]
    }
   ],
   "source": [
    "print(\"Initial pi\")\n",
    "print(IOHMM.initial_pi) # to normalize\n",
    "print(\"Transition matrix\")\n",
    "print(IOHMM.transition_matrix)\n",
    "print(\"Emission matrix\")\n",
    "print(IOHMM.emission_matrix)\n",
    "print(\"Sd\")\n",
    "print(IOHMM.lsd)"
   ]
  },
  {
   "cell_type": "markdown",
   "metadata": {},
   "source": [
    "## Viterbi"
   ]
  },
  {
   "cell_type": "code",
   "execution_count": 12,
   "metadata": {},
   "outputs": [
    {
     "data": {
      "text/plain": [
       "[0, 0, 0, 0, 0, 0, 0, 0, 0, 0]"
      ]
     },
     "execution_count": 12,
     "metadata": {},
     "output_type": "execute_result"
    }
   ],
   "source": [
    "#call the viterbi algorithm\n",
    "IOHMM.viterbi()"
   ]
  },
  {
   "cell_type": "markdown",
   "metadata": {},
   "source": [
    "## Predict"
   ]
  },
  {
   "cell_type": "code",
   "execution_count": 13,
   "metadata": {},
   "outputs": [
    {
     "data": {
      "text/plain": [
       "tensor(-20915.2949, grad_fn=<SumBackward0>)"
      ]
     },
     "execution_count": 13,
     "metadata": {},
     "output_type": "execute_result"
    }
   ],
   "source": [
    "# predict the next output given the next input\n",
    "IOHMM.predict(input[11])\n"
   ]
  },
  {
   "cell_type": "code",
   "execution_count": 14,
   "metadata": {},
   "outputs": [
    {
     "data": {
      "text/plain": [
       "tensor(1.3260)"
      ]
     },
     "execution_count": 14,
     "metadata": {},
     "output_type": "execute_result"
    }
   ],
   "source": [
    "output[11]"
   ]
  }
 ],
 "metadata": {
  "kernelspec": {
   "display_name": "Python 3 (ipykernel)",
   "language": "python",
   "name": "python3"
  },
  "language_info": {
   "codemirror_mode": {
    "name": "ipython",
    "version": 3
   },
   "file_extension": ".py",
   "mimetype": "text/x-python",
   "name": "python",
   "nbconvert_exporter": "python",
   "pygments_lexer": "ipython3",
   "version": "3.10.12"
  }
 },
 "nbformat": 4,
 "nbformat_minor": 4
}
