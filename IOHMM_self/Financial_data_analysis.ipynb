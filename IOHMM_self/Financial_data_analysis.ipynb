{
 "cells": [
  {
   "cell_type": "markdown",
   "metadata": {},
   "source": [
    "## Implementation"
   ]
  },
  {
   "cell_type": "code",
   "execution_count": 1,
   "metadata": {},
   "outputs": [
    {
     "data": {
      "text/plain": [
       "<torch._C.Generator at 0x10b0fa2b0>"
      ]
     },
     "execution_count": 1,
     "metadata": {},
     "output_type": "execute_result"
    }
   ],
   "source": [
    "from IOHMM import IOHMM_model\n",
    "import numpy as np, pandas as pd\n",
    "import torch\n",
    "\n",
    "torch.manual_seed(1)"
   ]
  },
  {
   "cell_type": "code",
   "execution_count": 2,
   "metadata": {},
   "outputs": [],
   "source": [
    "data = pd.read_csv(\"data/Financial-Data/stocks/TSLA.csv\")\n",
    "data.head()\n",
    "data = data.dropna()\n",
    "\n",
    "input = torch.tensor(np.array(data[['Open']]), dtype=torch.float32)\n",
    "output = torch.tensor(np.array(data['Close']), dtype=torch.float32)"
   ]
  },
  {
   "cell_type": "markdown",
   "metadata": {},
   "source": [
    "# Example 1"
   ]
  },
  {
   "cell_type": "markdown",
   "metadata": {},
   "source": [
    "## Set up a simple model manully"
   ]
  },
  {
   "cell_type": "code",
   "execution_count": 3,
   "metadata": {
    "collapsed": true
   },
   "outputs": [
    {
     "name": "stdout",
     "output_type": "stream",
     "text": [
      "Parameter containing:\n",
      "tensor([0.5000, 0.5000], requires_grad=True)\n",
      "Parameter containing:\n",
      "tensor([[[ 0.6614,  0.2669],\n",
      "         [ 0.0617,  0.6213]],\n",
      "\n",
      "        [[-0.4519, -0.1661],\n",
      "         [-1.5228,  0.3817]]], requires_grad=True)\n",
      "Parameter containing:\n",
      "tensor([[-1.0276, -0.5631],\n",
      "        [-0.8923, -0.0583]], requires_grad=True)\n",
      "Parameter containing:\n",
      "tensor([1., 1.], requires_grad=True)\n"
     ]
    }
   ],
   "source": [
    "IOHMM = IOHMM_model(num_states=2, inputs=input[:10], outputs=output[:10], max_iter=1000, tol=1e-3)\n",
    "print(IOHMM.initial_pi)\n",
    "print(IOHMM.transition_matrix)\n",
    "print(IOHMM.emission_matrix)\n",
    "print(IOHMM.sd)"
   ]
  },
  {
   "cell_type": "code",
   "execution_count": 4,
   "metadata": {},
   "outputs": [
    {
     "name": "stdout",
     "output_type": "stream",
     "text": [
      "tensor([[0.0926, 0.9074],\n",
      "        [0.0485, 0.9515],\n",
      "        [0.0617, 0.9383],\n",
      "        [0.0953, 0.9047],\n",
      "        [0.1599, 0.8401],\n",
      "        [0.2337, 0.7663],\n",
      "        [0.2229, 0.7771],\n",
      "        [0.1927, 0.8073],\n",
      "        [0.1890, 0.8110],\n",
      "        [0.1924, 0.8076]])\n"
     ]
    },
    {
     "data": {
      "text/plain": [
       "tensor([1.0000, 1.0000, 1.0000, 1.0000, 1.0000, 1.0000, 1.0000, 1.0000, 1.0000,\n",
       "        1.0000])"
      ]
     },
     "execution_count": 4,
     "metadata": {},
     "output_type": "execute_result"
    }
   ],
   "source": [
    "print(IOHMM._forward())\n",
    "torch.sum(IOHMM._forward(), dim=1)"
   ]
  },
  {
   "cell_type": "code",
   "execution_count": 5,
   "metadata": {},
   "outputs": [
    {
     "name": "stdout",
     "output_type": "stream",
     "text": [
      "tensor([[0.1282, 0.8718],\n",
      "        [0.0487, 0.9513],\n",
      "        [0.0613, 0.9387],\n",
      "        [0.0939, 0.9061],\n",
      "        [0.1560, 0.8440],\n",
      "        [0.2307, 0.7693],\n",
      "        [0.2247, 0.7753],\n",
      "        [0.1940, 0.8060],\n",
      "        [0.1910, 0.8090],\n",
      "        [0.1391, 0.8609]])\n"
     ]
    },
    {
     "data": {
      "text/plain": [
       "tensor([1., 1., 1., 1., 1., 1., 1., 1., 1., 1.])"
      ]
     },
     "execution_count": 5,
     "metadata": {},
     "output_type": "execute_result"
    }
   ],
   "source": [
    "print(IOHMM._backward())\n",
    "torch.sum(IOHMM._backward(), dim=1)"
   ]
  },
  {
   "cell_type": "code",
   "execution_count": 6,
   "metadata": {},
   "outputs": [
    {
     "name": "stdout",
     "output_type": "stream",
     "text": [
      "tensor([[0.0148, 0.9852],\n",
      "        [0.0026, 0.9974],\n",
      "        [0.0043, 0.9957],\n",
      "        [0.0108, 0.9892],\n",
      "        [0.0340, 0.9660],\n",
      "        [0.0838, 0.9162],\n",
      "        [0.0767, 0.9233],\n",
      "        [0.0543, 0.9457],\n",
      "        [0.0521, 0.9479],\n",
      "        [0.0371, 0.9629]])\n"
     ]
    },
    {
     "data": {
      "text/plain": [
       "tensor([1., 1., 1., 1., 1., 1., 1., 1., 1., 1.])"
      ]
     },
     "execution_count": 6,
     "metadata": {},
     "output_type": "execute_result"
    }
   ],
   "source": [
    "print(IOHMM._compute_gamma(IOHMM._forward(), IOHMM._backward()))\n",
    "torch.sum(IOHMM._compute_gamma(IOHMM._forward(), IOHMM._backward()), dim=1)"
   ]
  },
  {
   "cell_type": "code",
   "execution_count": 7,
   "metadata": {},
   "outputs": [
    {
     "name": "stdout",
     "output_type": "stream",
     "text": [
      "tensor([[[0.0302, 0.1400],\n",
      "         [0.1768, 0.6529]],\n",
      "\n",
      "        [[0.0047, 0.0496],\n",
      "         [0.0934, 0.8522]],\n",
      "\n",
      "        [[0.0032, 0.0673],\n",
      "         [0.0485, 0.8810]],\n",
      "\n",
      "        [[0.0065, 0.1079],\n",
      "         [0.0596, 0.8260]],\n",
      "\n",
      "        [[0.0178, 0.1851],\n",
      "         [0.0846, 0.7125]],\n",
      "\n",
      "        [[0.0460, 0.2694],\n",
      "         [0.1241, 0.5605]],\n",
      "\n",
      "        [[0.0657, 0.2401],\n",
      "         [0.1822, 0.5120]],\n",
      "\n",
      "        [[0.0532, 0.2058],\n",
      "         [0.1839, 0.5570]],\n",
      "\n",
      "        [[0.0451, 0.2093],\n",
      "         [0.1603, 0.5853]],\n",
      "\n",
      "        [[0.0334, 0.1590],\n",
      "         [0.1710, 0.6365]]])\n"
     ]
    },
    {
     "data": {
      "text/plain": [
       "tensor([1.0000, 1.0000, 1.0000, 1.0000, 1.0000, 1.0000, 1.0000, 1.0000, 1.0000,\n",
       "        1.0000])"
      ]
     },
     "execution_count": 7,
     "metadata": {},
     "output_type": "execute_result"
    }
   ],
   "source": [
    "print(IOHMM._compute_xi(IOHMM._forward(), IOHMM._backward()))\n",
    "a = torch.sum(IOHMM._compute_xi(IOHMM._forward(), IOHMM._backward()), axis=1)\n",
    "torch.sum(a, axis=1)"
   ]
  },
  {
   "cell_type": "code",
   "execution_count": 8,
   "metadata": {},
   "outputs": [],
   "source": [
    "IOHMM._baum_welch()"
   ]
  },
  {
   "cell_type": "markdown",
   "metadata": {},
   "source": [
    "## See the training results"
   ]
  },
  {
   "cell_type": "code",
   "execution_count": 9,
   "metadata": {},
   "outputs": [
    {
     "name": "stdout",
     "output_type": "stream",
     "text": [
      "Initial pi\n",
      "Parameter containing:\n",
      "tensor([  768704., 10083172.], requires_grad=True)\n",
      "Transition matrix\n",
      "Parameter containing:\n",
      "tensor([[[ 0.6614,  0.2669],\n",
      "         [ 0.0617,  0.6213]],\n",
      "\n",
      "        [[-0.4519, -0.1661],\n",
      "         [-1.5228,  0.3817]]], requires_grad=True)\n",
      "Emission matrix\n",
      "Parameter containing:\n",
      "tensor([[-1.0276, -0.5631],\n",
      "        [-0.8923, -0.0583]], requires_grad=True)\n",
      "Sd\n",
      "Parameter containing:\n",
      "tensor([1., 1.], requires_grad=True)\n"
     ]
    }
   ],
   "source": [
    "print(\"Initial pi\")\n",
    "print(IOHMM.initial_pi) # to normalize\n",
    "print(\"Transition matrix\")\n",
    "print(IOHMM.transition_matrix)\n",
    "print(\"Emission matrix\")\n",
    "print(IOHMM.emission_matrix)\n",
    "print(\"Sd\")\n",
    "print(IOHMM.sd)"
   ]
  },
  {
   "cell_type": "markdown",
   "metadata": {},
   "source": [
    "## Viterbi"
   ]
  },
  {
   "cell_type": "code",
   "execution_count": 10,
   "metadata": {},
   "outputs": [],
   "source": [
    "#call the viterbi algorithm\n",
    "IOHMM.viterbi()"
   ]
  }
 ],
 "metadata": {
  "kernelspec": {
   "display_name": "Python 3",
   "language": "python",
   "name": "python3"
  },
  "language_info": {
   "codemirror_mode": {
    "name": "ipython",
    "version": 3
   },
   "file_extension": ".py",
   "mimetype": "text/x-python",
   "name": "python",
   "nbconvert_exporter": "python",
   "pygments_lexer": "ipython3",
   "version": "3.9.18"
  }
 },
 "nbformat": 4,
 "nbformat_minor": 1
}
