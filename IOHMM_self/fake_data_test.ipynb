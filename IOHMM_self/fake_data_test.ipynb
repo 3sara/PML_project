{
 "cells": [
  {
   "cell_type": "code",
   "execution_count": 1,
   "metadata": {},
   "outputs": [],
   "source": [
    "# Usefull imports\n",
    "import pandas as pd\n",
    "import numpy as np\n",
    "import matplotlib.pyplot as plt\n",
    "import torch\n",
    "from hmmlearn import hmm\n",
    "from IOHMM import IOHMM_model"
   ]
  },
  {
   "cell_type": "code",
   "execution_count": 2,
   "metadata": {},
   "outputs": [],
   "source": [
    "hmm_model = hmm.GaussianHMM(n_components=2, covariance_type=\"diag\", n_iter=100)\n",
    "\n",
    "hmm_model.startprob_ = np.array([0.2, 0.8])\n",
    "\n",
    "hmm_model.transmat_ = np.array([[0.4, 0.6],\n",
    "                                [0.2, 0.8]])\n",
    "\n",
    "hmm_model.means_ = np.array([[-10.0], [10.0]])\n",
    "\n",
    "hmm_model.covars_ = np.array([[.1], [.1]])\n"
   ]
  },
  {
   "cell_type": "code",
   "execution_count": 3,
   "metadata": {},
   "outputs": [
    {
     "data": {
      "text/html": [
       "<div>\n",
       "<style scoped>\n",
       "    .dataframe tbody tr th:only-of-type {\n",
       "        vertical-align: middle;\n",
       "    }\n",
       "\n",
       "    .dataframe tbody tr th {\n",
       "        vertical-align: top;\n",
       "    }\n",
       "\n",
       "    .dataframe thead th {\n",
       "        text-align: right;\n",
       "    }\n",
       "</style>\n",
       "<table border=\"1\" class=\"dataframe\">\n",
       "  <thead>\n",
       "    <tr style=\"text-align: right;\">\n",
       "      <th></th>\n",
       "      <th>X</th>\n",
       "      <th>Z</th>\n",
       "    </tr>\n",
       "  </thead>\n",
       "  <tbody>\n",
       "    <tr>\n",
       "      <th>0</th>\n",
       "      <td>9.772072</td>\n",

       "      <td>1</td>\n",
       "    </tr>\n",
       "    <tr>\n",
       "      <th>1</th>\n",
       "      <td>9.628914</td>\n",

       "      <td>1</td>\n",
       "    </tr>\n",
       "    <tr>\n",
       "      <th>2</th>\n",
       "      <td>-9.851024</td>\n",
       "      <td>0</td>\n",
       "    </tr>\n",
       "    <tr>\n",
       "      <th>3</th>\n",
       "      <td>-9.568227</td>\n",
       "      <td>0</td>\n",
       "    </tr>\n",
       "    <tr>\n",
       "      <th>4</th>\n",
       "      <td>10.331455</td>\n",
       "      <td>1</td>\n",
       "    </tr>\n",
       "  </tbody>\n",
       "</table>\n",
       "</div>"
      ],
      "text/plain": [
       "           X  Z\n",
       "0   9.772072  1\n",
       "1   9.628914  1\n",
       "2  -9.851024  0\n",
       "3  -9.568227  0\n",
       "4  10.331455  1"

      ]
     },
     "execution_count": 3,
     "metadata": {},
     "output_type": "execute_result"
    }
   ],
   "source": [
    "#sample data\n",
    "X, Z = hmm_model.sample(5)\n",
    "\n",
    "#dataframe\n",
    "data = pd.DataFrame(X, columns=['X'])\n",
    "data['Z'] = Z\n",
    "\n",
    "data[:]"
   ]
  },
  {
   "cell_type": "code",
   "execution_count": 4,
   "metadata": {},
   "outputs": [],
   "source": [
    "# Torch  data\n",
    "output = torch.tensor(data['X'].values, dtype=torch.float32)\n",
    "# Input data ones\n",
    "input = torch.ones(output.size(), dtype=torch.float32).unsqueeze(1)"
   ]
  },
  {
   "cell_type": "code",
   "execution_count": 5,
   "metadata": {},
   "outputs": [],
   "source": [
    "# Transition matrix\n",
    "TM = torch.tensor([[[1., 2.2],\n",
    "                    [-1., 3.1]],\n",
    "                    \n",
    "                    [[1., 2.],\n",
    "                    [-1.3, 3.]]], dtype=torch.float32)\n",
    "\n",
    "\n",
    "IOHMM = IOHMM_model(num_states=2, inputs=input, outputs=output, max_iter=10, tol=1e-40)"
   ]
  },
  {
   "cell_type": "code",
   "execution_count": 6,
   "metadata": {},
   "outputs": [
    {
     "name": "stdout",
     "output_type": "stream",
     "text": [
      "zeta[0]: tensor([0.5000, 0.5000])\n",
      "iter: 0, likelihood: -24.135108947753906, likelihood marco: -97.72394561767578\n",
      "zeta[0]: tensor([0.5001, 0.4999])\n",
      "iter: 1, likelihood: -24.135173797607422, likelihood marco: -97.72383880615234\n",
      "zeta[0]: tensor([0.5003, 0.4997])\n",
      "iter: 2, likelihood: -24.135234832763672, likelihood marco: -97.72373962402344\n",
      "zeta[0]: tensor([0.5004, 0.4996])\n",
      "iter: 3, likelihood: -24.135295867919922, likelihood marco: -97.7236328125\n",
      "zeta[0]: tensor([0.5005, 0.4995])\n",
      "iter: 4, likelihood: -24.135353088378906, likelihood marco: -97.72352600097656\n",
      "zeta[0]: tensor([0.5007, 0.4993])\n",
      "iter: 5, likelihood: -24.135417938232422, likelihood marco: -97.72341918945312\n",
      "zeta[0]: tensor([0.5008, 0.4992])\n",
      "iter: 6, likelihood: -24.135475158691406, likelihood marco: -97.72331237792969\n",
      "zeta[0]: tensor([0.5009, 0.4991])\n",
      "iter: 7, likelihood: -24.135536193847656, likelihood marco: -97.72322082519531\n",
      "zeta[0]: tensor([0.5010, 0.4990])\n",
      "iter: 8, likelihood: -24.135597229003906, likelihood marco: -97.72311401367188\n",
      "zeta[0]: tensor([0.5012, 0.4988])\n",
      "iter: 9, likelihood: -24.135658264160156, likelihood marco: -97.72301483154297\n"

     ]
    }
   ],
   "source": [
    "IOHMM._baum_welch()"
   ]
  },
  {
   "cell_type": "code",
   "execution_count": 7,
   "metadata": {},
   "outputs": [
    {
     "name": "stdout",
     "output_type": "stream",
     "text": [
      "torch.Size([3])\n",
      "torch.Size([3, 3])\n",
      "tensor([[ 2,  4,  6],\n",
      "        [ 5,  7,  9],\n",
      "        [ 8, 10, 12]])\n"
     ]
    },
    {
     "data": {
      "text/plain": [
       "tensor([15, 21, 27])"
      ]
     },
     "execution_count": 7,
     "metadata": {},
     "output_type": "execute_result"
    }
   ],
   "source": [
    "matrix=torch.tensor([[1,2,3],[4,5,6],[7,8,9]])\n",
    "vector=torch.tensor([1,2,3])\n",
    "print(vector.shape)\n",
    "print(matrix.shape)\n",
    "sum_vector=vector+matrix\n",
    "print(sum_vector)\n",
    "torch.sum(sum_vector, dim=0)"
   ]
  },
  {
   "cell_type": "code",
   "execution_count": 8,
   "metadata": {},
   "outputs": [
    {
     "data": {
      "text/plain": [
       "tensor([1, 0, 0, 0, 1])"
      ]
     },
     "execution_count": 8,
     "metadata": {},
     "output_type": "execute_result"
    }
   ],
   "source": [
    "IOHMM.viterbi()"
   ]
  }
 ],
 "metadata": {
  "kernelspec": {
   "display_name": "env_1",
   "language": "python",
   "name": "python3"
  },
  "language_info": {
   "codemirror_mode": {
    "name": "ipython",
    "version": 3
   },
   "file_extension": ".py",
   "mimetype": "text/x-python",
   "name": "python",
   "nbconvert_exporter": "python",
   "pygments_lexer": "ipython3",
   "version": "3.10.12"
  }
 },
 "nbformat": 4,
 "nbformat_minor": 2
}
